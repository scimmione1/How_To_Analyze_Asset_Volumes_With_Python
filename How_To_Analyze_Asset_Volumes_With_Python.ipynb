{
 "cells": [
  {
   "cell_type": "code",
   "execution_count": 25,
   "id": "ddd8be1c",
   "metadata": {},
   "outputs": [],
   "source": [
    "import numpy as np\n",
    "import pandas as pd\n",
    "\n",
    "from tvDatafeed import TvDatafeed, Interval\n",
    "\n",
    "import matplotlib.pyplot as plt\n",
    "\n",
    "import warnings\n",
    "warnings.filterwarnings(\"ignore\")\n",
    "\n",
    "import datetime as dt\n",
    "import time"
   ]
  },
  {
   "cell_type": "code",
   "execution_count": 26,
   "metadata": {},
   "outputs": [
    {
     "name": "stderr",
     "output_type": "stream",
     "text": [
      "WARNING:tvDatafeed.main:you are using nologin method, data you access may be limited\n"
     ]
    }
   ],
   "source": [
    "tv = TvDatafeed()\n",
    "\n",
    "# portfolio of stocks\n",
    "stocks = ['LULU', 'ADBE', 'PYPL', 'NKE', 'MC']\n",
    "\n",
    "num_stocks = len(stocks)\n",
    "\n",
    "from datetime import datetime\n",
    "\n",
    "# days calculation\n",
    "start_date = datetime(2010, 1, 1)\n",
    "today = datetime.now()\n",
    "days_difference = (today - start_date).days\n",
    "\n",
    "n_bars = min(days_difference + 100, 5000)  # max 5000 bars API limit"
   ]
  },
  {
   "cell_type": "code",
   "execution_count": 27,
   "metadata": {},
   "outputs": [],
   "source": [
    "# Exchange mapping\n",
    "stock_exchanges = {\n",
    "    'LULU': 'NASDAQ',\n",
    "    'ADBE': 'NASDAQ',\n",
    "    'PYPL': 'NASDAQ',\n",
    "    'NKE': 'NYSE',\n",
    "    'MC': 'EURONEXT'\n",
    "}\n",
    "\n",
    "# Download function with retry and error handling\n",
    "def download_with_retry(symbol, exchange, retries=3, delay=2):\n",
    "    for attempt in range(retries):\n",
    "        try:\n",
    "            print(f\"Downloading {symbol} from {exchange} (attempt {attempt+1})\")\n",
    "            data = tv.get_hist(\n",
    "                symbol=symbol, \n",
    "                exchange=exchange, \n",
    "                interval=Interval.in_daily,\n",
    "                n_bars=1000  # circa 4 anni di dati\n",
    "            )\n",
    "            if data is not None and not data.empty:\n",
    "                print(f\"✅ {symbol}: {len(data)} rows downloaded\")\n",
    "                return data\n",
    "        except Exception as e:\n",
    "            print(f\"❌ Error downloading {symbol}: {e}\")\n",
    "        \n",
    "        if attempt < retries - 1:\n",
    "            time.sleep(delay)\n",
    "    \n",
    "    print(f\"❌ Failed to download {symbol} after {retries} attempts\")\n",
    "    return None"
   ]
  },
  {
   "cell_type": "code",
   "execution_count": 28,
   "metadata": {},
   "outputs": [
    {
     "name": "stdout",
     "output_type": "stream",
     "text": [
      "🚀 Starting data download...\n",
      "Downloading LULU from NASDAQ (attempt 1)\n",
      "✅ LULU: 1000 rows downloaded\n",
      "Downloading ADBE from NASDAQ (attempt 1)\n",
      "✅ ADBE: 1000 rows downloaded\n",
      "Downloading PYPL from NASDAQ (attempt 1)\n",
      "✅ PYPL: 1000 rows downloaded\n",
      "Downloading NKE from NYSE (attempt 1)\n",
      "✅ NKE: 1000 rows downloaded\n",
      "Downloading MC from EURONEXT (attempt 1)\n",
      "✅ MC: 1000 rows downloaded\n",
      "📊 Combined DataFrame shape: (2000, 10)\n",
      "📅 Date range: 2021-08-30 16:30:00 to 2025-08-22 16:30:00\n",
      "\n",
      "First 5 rows:\n",
      "                     LULU_close  LULU_volume  ADBE_close  ADBE_volume  \\\n",
      "datetime                                                                \n",
      "2021-08-30 16:30:00      414.52     857947.0      665.99    1341472.0   \n",
      "2021-08-31 16:30:00      400.17    1275483.0      663.70    1877807.0   \n",
      "2021-09-01 16:30:00      395.53     966304.0      665.89    1261172.0   \n",
      "2021-09-02 16:30:00      388.37     884521.0      664.64    1403452.0   \n",
      "2021-09-03 16:30:00      388.33     712426.0      666.59    1641621.0   \n",
      "\n",
      "                     PYPL_close  PYPL_volume  NKE_close  NKE_volume  MC_close  \\\n",
      "datetime                                                                        \n",
      "2021-08-30 16:30:00      288.47   14631047.0     168.03   3537067.0       NaN   \n",
      "2021-08-31 16:30:00      288.66    8911799.0     164.74   7545629.0       NaN   \n",
      "2021-09-01 16:30:00      286.75    5568281.0     164.56   4706527.0       NaN   \n",
      "2021-09-02 16:30:00      285.53    4647112.0     163.67   4632856.0       NaN   \n",
      "2021-09-03 16:30:00      289.13    5287970.0     163.29   4254656.0       NaN   \n",
      "\n",
      "                     MC_volume  \n",
      "datetime                        \n",
      "2021-08-30 16:30:00        NaN  \n",
      "2021-08-31 16:30:00        NaN  \n",
      "2021-09-01 16:30:00        NaN  \n",
      "2021-09-02 16:30:00        NaN  \n",
      "2021-09-03 16:30:00        NaN  \n"
     ]
    }
   ],
   "source": [
    "# Download to DataFrame\n",
    "print(\"🚀 Starting data download...\")\n",
    "data_dict = {}\n",
    "failed_downloads = []\n",
    "\n",
    "for stock, exchange in stock_exchanges.items():\n",
    "    data = download_with_retry(stock, exchange)\n",
    "    if data is not None:\n",
    "        # keep only the Close and Volume columns and rename them\n",
    "        data_dict[stock] = data[['close', 'volume']].rename(\n",
    "            columns={'close': f'{stock}_close', 'volume': f'{stock}_volume'}\n",
    "        )\n",
    "    else:\n",
    "        failed_downloads.append(stock)\n",
    "\n",
    "if failed_downloads:\n",
    "    print(f\"⚠️ Failed to download: {failed_downloads}\")\n",
    "\n",
    "# Combine into a single DataFrame\n",
    "if data_dict:\n",
    "    df = pd.concat(data_dict.values(), axis=1)\n",
    "    print(f\"📊 Combined DataFrame shape: {df.shape}\")\n",
    "    print(f\"📅 Date range: {df.index.min()} to {df.index.max()}\")\n",
    "    print(\"\\nFirst 5 rows:\")\n",
    "    print(df.head())\n",
    "else:\n",
    "    print(\"❌ No data downloaded successfully\")"
   ]
  },
  {
   "cell_type": "code",
   "execution_count": 29,
   "metadata": {},
   "outputs": [],
   "source": [
    "# download data to csv\n",
    "df.to_csv(\"stock_data.csv\")"
   ]
  },
  {
   "cell_type": "code",
   "execution_count": 30,
   "metadata": {},
   "outputs": [],
   "source": [
    "# read data from csv\n",
    "df = pd.read_csv(\"stock_data.csv\", index_col=0, parse_dates=True)"
   ]
  },
  {
   "cell_type": "code",
   "execution_count": 31,
   "metadata": {},
   "outputs": [
    {
     "data": {
      "text/html": [
       "<div>\n",
       "<style scoped>\n",
       "    .dataframe tbody tr th:only-of-type {\n",
       "        vertical-align: middle;\n",
       "    }\n",
       "\n",
       "    .dataframe tbody tr th {\n",
       "        vertical-align: top;\n",
       "    }\n",
       "\n",
       "    .dataframe thead th {\n",
       "        text-align: right;\n",
       "    }\n",
       "</style>\n",
       "<table border=\"1\" class=\"dataframe\">\n",
       "  <thead>\n",
       "    <tr style=\"text-align: right;\">\n",
       "      <th></th>\n",
       "      <th>LULU_close</th>\n",
       "      <th>LULU_volume</th>\n",
       "      <th>ADBE_close</th>\n",
       "      <th>ADBE_volume</th>\n",
       "      <th>PYPL_close</th>\n",
       "      <th>PYPL_volume</th>\n",
       "      <th>NKE_close</th>\n",
       "      <th>NKE_volume</th>\n",
       "      <th>MC_close</th>\n",
       "      <th>MC_volume</th>\n",
       "    </tr>\n",
       "    <tr>\n",
       "      <th>datetime</th>\n",
       "      <th></th>\n",
       "      <th></th>\n",
       "      <th></th>\n",
       "      <th></th>\n",
       "      <th></th>\n",
       "      <th></th>\n",
       "      <th></th>\n",
       "      <th></th>\n",
       "      <th></th>\n",
       "      <th></th>\n",
       "    </tr>\n",
       "  </thead>\n",
       "  <tbody>\n",
       "    <tr>\n",
       "      <th>2021-08-30 16:30:00</th>\n",
       "      <td>414.52</td>\n",
       "      <td>857947.0</td>\n",
       "      <td>665.99</td>\n",
       "      <td>1341472.0</td>\n",
       "      <td>288.47</td>\n",
       "      <td>14631047.0</td>\n",
       "      <td>168.03</td>\n",
       "      <td>3537067.0</td>\n",
       "      <td>NaN</td>\n",
       "      <td>NaN</td>\n",
       "    </tr>\n",
       "    <tr>\n",
       "      <th>2021-08-31 16:30:00</th>\n",
       "      <td>400.17</td>\n",
       "      <td>1275483.0</td>\n",
       "      <td>663.70</td>\n",
       "      <td>1877807.0</td>\n",
       "      <td>288.66</td>\n",
       "      <td>8911799.0</td>\n",
       "      <td>164.74</td>\n",
       "      <td>7545629.0</td>\n",
       "      <td>NaN</td>\n",
       "      <td>NaN</td>\n",
       "    </tr>\n",
       "    <tr>\n",
       "      <th>2021-09-01 16:30:00</th>\n",
       "      <td>395.53</td>\n",
       "      <td>966304.0</td>\n",
       "      <td>665.89</td>\n",
       "      <td>1261172.0</td>\n",
       "      <td>286.75</td>\n",
       "      <td>5568281.0</td>\n",
       "      <td>164.56</td>\n",
       "      <td>4706527.0</td>\n",
       "      <td>NaN</td>\n",
       "      <td>NaN</td>\n",
       "    </tr>\n",
       "    <tr>\n",
       "      <th>2021-09-02 16:30:00</th>\n",
       "      <td>388.37</td>\n",
       "      <td>884521.0</td>\n",
       "      <td>664.64</td>\n",
       "      <td>1403452.0</td>\n",
       "      <td>285.53</td>\n",
       "      <td>4647112.0</td>\n",
       "      <td>163.67</td>\n",
       "      <td>4632856.0</td>\n",
       "      <td>NaN</td>\n",
       "      <td>NaN</td>\n",
       "    </tr>\n",
       "    <tr>\n",
       "      <th>2021-09-03 16:30:00</th>\n",
       "      <td>388.33</td>\n",
       "      <td>712426.0</td>\n",
       "      <td>666.59</td>\n",
       "      <td>1641621.0</td>\n",
       "      <td>289.13</td>\n",
       "      <td>5287970.0</td>\n",
       "      <td>163.29</td>\n",
       "      <td>4254656.0</td>\n",
       "      <td>NaN</td>\n",
       "      <td>NaN</td>\n",
       "    </tr>\n",
       "  </tbody>\n",
       "</table>\n",
       "</div>"
      ],
      "text/plain": [
       "                     LULU_close  LULU_volume  ADBE_close  ADBE_volume  \\\n",
       "datetime                                                                \n",
       "2021-08-30 16:30:00      414.52     857947.0      665.99    1341472.0   \n",
       "2021-08-31 16:30:00      400.17    1275483.0      663.70    1877807.0   \n",
       "2021-09-01 16:30:00      395.53     966304.0      665.89    1261172.0   \n",
       "2021-09-02 16:30:00      388.37     884521.0      664.64    1403452.0   \n",
       "2021-09-03 16:30:00      388.33     712426.0      666.59    1641621.0   \n",
       "\n",
       "                     PYPL_close  PYPL_volume  NKE_close  NKE_volume  MC_close  \\\n",
       "datetime                                                                        \n",
       "2021-08-30 16:30:00      288.47   14631047.0     168.03   3537067.0       NaN   \n",
       "2021-08-31 16:30:00      288.66    8911799.0     164.74   7545629.0       NaN   \n",
       "2021-09-01 16:30:00      286.75    5568281.0     164.56   4706527.0       NaN   \n",
       "2021-09-02 16:30:00      285.53    4647112.0     163.67   4632856.0       NaN   \n",
       "2021-09-03 16:30:00      289.13    5287970.0     163.29   4254656.0       NaN   \n",
       "\n",
       "                     MC_volume  \n",
       "datetime                        \n",
       "2021-08-30 16:30:00        NaN  \n",
       "2021-08-31 16:30:00        NaN  \n",
       "2021-09-01 16:30:00        NaN  \n",
       "2021-09-02 16:30:00        NaN  \n",
       "2021-09-03 16:30:00        NaN  "
      ]
     },
     "execution_count": 31,
     "metadata": {},
     "output_type": "execute_result"
    }
   ],
   "source": [
    "df.head()"
   ]
  },
  {
   "cell_type": "code",
   "execution_count": 32,
   "metadata": {},
   "outputs": [
    {
     "name": "stdout",
     "output_type": "stream",
     "text": [
      "NaN counts per column:\n",
      "LULU_close     1000\n",
      "LULU_volume    1000\n",
      "ADBE_close     1000\n",
      "ADBE_volume    1000\n",
      "PYPL_close     1000\n",
      "PYPL_volume    1000\n",
      "NKE_close      1000\n",
      "NKE_volume     1000\n",
      "MC_close       1000\n",
      "MC_volume      1000\n",
      "dtype: int64\n"
     ]
    }
   ],
   "source": [
    "# count nan\n",
    "nan_counts = df.isna().sum()\n",
    "print(\"NaN counts per column:\")\n",
    "print(nan_counts[nan_counts > 0])"
   ]
  },
  {
   "cell_type": "code",
   "execution_count": 33,
   "metadata": {},
   "outputs": [
    {
     "data": {
      "image/png": "[encoded data removed]",
      "text/plain": [
       "<Figure size 1200x600 with 1 Axes>"
      ]
     },
     "metadata": {},
     "output_type": "display_data"
    }
   ],
   "source": [
    "# plot ADBE_close\n",
    "df['ADBE_close'].plot(title='ADBE Close Price', figsize=(12, 6));\n"
   ]
  },
  {
   "cell_type": "code",
   "execution_count": null,
   "metadata": {},
   "outputs": [],
   "source": []
  },
  {
   "cell_type": "code",
   "execution_count": null,
   "metadata": {},
   "outputs": [],
   "source": []
  }
 ],
 "metadata": {
  "kernelspec": {
   "display_name": "env_prova",
   "language": "python",
   "name": "python3"
  },
  "language_info": {
   "codemirror_mode": {
    "name": "ipython",
    "version": 3
   },
   "file_extension": ".py",
   "mimetype": "text/x-python",
   "name": "python",
   "nbconvert_exporter": "python",
   "pygments_lexer": "ipython3",
   "version": "3.9.21"
  }
 },
 "nbformat": 4,
 "nbformat_minor": 5
}
