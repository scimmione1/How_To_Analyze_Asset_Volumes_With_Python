{
 "cells": [
  {
   "cell_type": "code",
   "execution_count": 111,
   "id": "ddd8be1c",
   "metadata": {},
   "outputs": [],
   "source": [
    "import numpy as np\n",
    "import pandas as pd\n",
    "from datetime import datetime\n",
    "\n",
    "import matplotlib.pyplot as plt\n",
    "\n",
    "import warnings\n",
    "warnings.filterwarnings(\"ignore\")\n",
    "\n",
    "import datetime as dt\n",
    "import time"
   ]
  },
  {
   "cell_type": "code",
   "execution_count": 112,
   "id": "a70e3a2f",
   "metadata": {},
   "outputs": [],
   "source": [
    "# portfolio of stocks\n",
    "stocks = ['LULU', 'ADBE', 'PYPL', 'NKE', 'MC']"
   ]
  },
  {
   "cell_type": "markdown",
   "id": "5710a33d",
   "metadata": {},
   "source": [
    "#### Download historical data from TradingView API"
   ]
  },
  {
   "cell_type": "code",
   "execution_count": 113,
   "id": "aed98714",
   "metadata": {},
   "outputs": [],
   "source": [
    "# from tvDatafeed import TvDatafeed, Interval\n",
    "# tv = TvDatafeed()\n",
    "\n",
    "# num_stocks = len(stocks)\n",
    "\n",
    "\n",
    "# # days calculation\n",
    "# start_date = datetime(2010, 1, 1)\n",
    "# today = datetime.now()\n",
    "# days_difference = (today - start_date).days\n",
    "\n",
    "# n_bars = min(days_difference + 100, 5000)  # max 5000 bars API limit"
   ]
  },
  {
   "cell_type": "code",
   "execution_count": 114,
   "id": "81ad6720",
   "metadata": {},
   "outputs": [],
   "source": [
    "# # Exchange mapping\n",
    "# stock_exchanges = {\n",
    "#     'LULU': 'NASDAQ',\n",
    "#     'ADBE': 'NASDAQ',\n",
    "#     'PYPL': 'NASDAQ',\n",
    "#     'NKE': 'NYSE',\n",
    "#     'MC': 'EURONEXT'\n",
    "# }\n",
    "\n",
    "# # Download function with retry and error handling\n",
    "# def download_with_retry(symbol, exchange, retries=3, delay=2):\n",
    "#     for attempt in range(retries):\n",
    "#         try:\n",
    "#             print(f\"Downloading {symbol} from {exchange} (attempt {attempt+1})\")\n",
    "#             data = tv.get_hist(\n",
    "#                 symbol=symbol, \n",
    "#                 exchange=exchange, \n",
    "#                 interval=Interval.in_daily,\n",
    "#                 n_bars=1000  # circa 4 anni di dati\n",
    "#             )\n",
    "#             if data is not None and not data.empty:\n",
    "#                 print(f\"✅ {symbol}: {len(data)} rows downloaded\")\n",
    "#                 return data\n",
    "#         except Exception as e:\n",
    "#             print(f\"❌ Error downloading {symbol}: {e}\")\n",
    "        \n",
    "#         if attempt < retries - 1:\n",
    "#             time.sleep(delay)\n",
    "    \n",
    "#     print(f\"❌ Failed to download {symbol} after {retries} attempts\")\n",
    "#     return None"
   ]
  },
  {
   "cell_type": "code",
   "execution_count": 115,
   "id": "e9f6c2d4",
   "metadata": {},
   "outputs": [],
   "source": [
    "# # Download to DataFrame\n",
    "# print(\"🚀 Starting data download...\")\n",
    "# data_dict = {}\n",
    "# failed_downloads = []\n",
    "\n",
    "# for stock, exchange in stock_exchanges.items():\n",
    "#     data = download_with_retry(stock, exchange)\n",
    "#     if data is not None:\n",
    "#         # keep only the Close and Volume columns and rename them\n",
    "#         data_dict[stock] = data[['close', 'volume']].rename(\n",
    "#             columns={'close': f'{stock}_close', 'volume': f'{stock}_volume'}\n",
    "#         )\n",
    "#     else:\n",
    "#         failed_downloads.append(stock)\n",
    "\n",
    "# if failed_downloads:\n",
    "#     print(f\"⚠️ Failed to download: {failed_downloads}\")\n",
    "\n",
    "# # Combine into a single DataFrame\n",
    "# if data_dict:\n",
    "#     df = pd.concat(data_dict.values(), axis=1)\n",
    "#     print(f\"📊 Combined DataFrame shape: {df.shape}\")\n",
    "#     print(f\"📅 Date range: {df.index.min()} to {df.index.max()}\")\n",
    "#     print(\"\\nFirst 5 rows:\")\n",
    "#     print(df.head())\n",
    "# else:\n",
    "#     print(\"❌ No data downloaded successfully\")"
   ]
  },
  {
   "cell_type": "code",
   "execution_count": 116,
   "id": "284a2fc4",
   "metadata": {},
   "outputs": [],
   "source": [
    "# # count nan\n",
    "# nan_counts = df.isna().sum()\n",
    "# print(\"NaN counts per column:\")\n",
    "# print(nan_counts[nan_counts > 0])\n",
    "\n",
    "# \"\"\"\n",
    "# NaN counts per column:\n",
    "# LULU_close     1000\n",
    "# LULU_volume    1000\n",
    "# ADBE_close     1000\n",
    "# ADBE_volume    1000\n",
    "# PYPL_close     1000\n",
    "# PYPL_volume    1000\n",
    "# NKE_close      1000\n",
    "# NKE_volume     1000\n",
    "# MC_close       1000\n",
    "# MC_volume      1000\n",
    "# dtype: int64\n",
    "# \"\"\""
   ]
  },
  {
   "cell_type": "markdown",
   "id": "69b9fb12",
   "metadata": {},
   "source": [
    "Unfortunately, the dataset contains a significant amount of missing data, particularly for the 'close' and 'volume' columns of each stock. We need to find a different API for the data extraction process of the selected stocks."
   ]
  },
  {
   "cell_type": "markdown",
   "id": "81644ab4",
   "metadata": {},
   "source": [
    "#### Download historical data from yf API"
   ]
  },
  {
   "cell_type": "code",
   "execution_count": 117,
   "id": "fcf72fad",
   "metadata": {},
   "outputs": [],
   "source": [
    "# import yfinance as yf\n",
    "\n",
    "# start_date = \"2020-01-01\"\n",
    "# end_date = datetime.now().strftime(\"%Y-%m-%d\")\n",
    "\n",
    "# # Download historical data from yf API\n",
    "# data = yf.download(stocks, start=start_date, end=end_date, group_by='ticker')\n",
    "\n",
    "# # download data to csv\n",
    "# data.to_csv(\"stock_data.csv\")"
   ]
  },
  {
   "cell_type": "markdown",
   "id": "a60f3c66",
   "metadata": {},
   "source": [
    "#### Download analysis from csv downloaded data"
   ]
  },
  {
   "cell_type": "code",
   "execution_count": 118,
   "id": "6c64c9c1",
   "metadata": {},
   "outputs": [
    {
     "data": {
      "text/html": [
       "<div>\n",
       "<style scoped>\n",
       "    .dataframe tbody tr th:only-of-type {\n",
       "        vertical-align: middle;\n",
       "    }\n",
       "\n",
       "    .dataframe tbody tr th {\n",
       "        vertical-align: top;\n",
       "    }\n",
       "\n",
       "    .dataframe thead tr th {\n",
       "        text-align: left;\n",
       "    }\n",
       "\n",
       "    .dataframe thead tr:last-of-type th {\n",
       "        text-align: right;\n",
       "    }\n",
       "</style>\n",
       "<table border=\"1\" class=\"dataframe\">\n",
       "  <thead>\n",
       "    <tr>\n",
       "      <th>Ticker</th>\n",
       "      <th colspan=\"5\" halign=\"left\">LULU</th>\n",
       "      <th colspan=\"5\" halign=\"left\">PYPL</th>\n",
       "      <th>...</th>\n",
       "      <th colspan=\"5\" halign=\"left\">NKE</th>\n",
       "      <th colspan=\"5\" halign=\"left\">MC</th>\n",
       "    </tr>\n",
       "    <tr>\n",
       "      <th>Price</th>\n",
       "      <th>Open</th>\n",
       "      <th>High</th>\n",
       "      <th>Low</th>\n",
       "      <th>Close</th>\n",
       "      <th>Volume</th>\n",
       "      <th>Open</th>\n",
       "      <th>High</th>\n",
       "      <th>Low</th>\n",
       "      <th>Close</th>\n",
       "      <th>Volume</th>\n",
       "      <th>...</th>\n",
       "      <th>Open</th>\n",
       "      <th>High</th>\n",
       "      <th>Low</th>\n",
       "      <th>Close</th>\n",
       "      <th>Volume</th>\n",
       "      <th>Open</th>\n",
       "      <th>High</th>\n",
       "      <th>Low</th>\n",
       "      <th>Close</th>\n",
       "      <th>Volume</th>\n",
       "    </tr>\n",
       "    <tr>\n",
       "      <th>Date</th>\n",
       "      <th></th>\n",
       "      <th></th>\n",
       "      <th></th>\n",
       "      <th></th>\n",
       "      <th></th>\n",
       "      <th></th>\n",
       "      <th></th>\n",
       "      <th></th>\n",
       "      <th></th>\n",
       "      <th></th>\n",
       "      <th></th>\n",
       "      <th></th>\n",
       "      <th></th>\n",
       "      <th></th>\n",
       "      <th></th>\n",
       "      <th></th>\n",
       "      <th></th>\n",
       "      <th></th>\n",
       "      <th></th>\n",
       "      <th></th>\n",
       "      <th></th>\n",
       "    </tr>\n",
       "  </thead>\n",
       "  <tbody>\n",
       "    <tr>\n",
       "      <th>2020-01-02</th>\n",
       "      <td>232.899994</td>\n",
       "      <td>233.470001</td>\n",
       "      <td>231.770004</td>\n",
       "      <td>233.419998</td>\n",
       "      <td>1449300.0</td>\n",
       "      <td>109.470001</td>\n",
       "      <td>111.209999</td>\n",
       "      <td>109.275002</td>\n",
       "      <td>110.750000</td>\n",
       "      <td>7418800.0</td>\n",
       "      <td>...</td>\n",
       "      <td>94.584357</td>\n",
       "      <td>95.377536</td>\n",
       "      <td>94.267082</td>\n",
       "      <td>95.368202</td>\n",
       "      <td>5644100.0</td>\n",
       "      <td>21.568006</td>\n",
       "      <td>21.803243</td>\n",
       "      <td>21.406700</td>\n",
       "      <td>21.789801</td>\n",
       "      <td>506500.0</td>\n",
       "    </tr>\n",
       "    <tr>\n",
       "      <th>2020-01-03</th>\n",
       "      <td>231.240005</td>\n",
       "      <td>234.500000</td>\n",
       "      <td>230.229996</td>\n",
       "      <td>232.639999</td>\n",
       "      <td>1315400.0</td>\n",
       "      <td>109.489998</td>\n",
       "      <td>110.419998</td>\n",
       "      <td>108.760002</td>\n",
       "      <td>108.760002</td>\n",
       "      <td>7098300.0</td>\n",
       "      <td>...</td>\n",
       "      <td>93.865816</td>\n",
       "      <td>95.181565</td>\n",
       "      <td>93.604534</td>\n",
       "      <td>95.106911</td>\n",
       "      <td>4541800.0</td>\n",
       "      <td>21.527674</td>\n",
       "      <td>21.662097</td>\n",
       "      <td>20.956382</td>\n",
       "      <td>21.231947</td>\n",
       "      <td>506300.0</td>\n",
       "    </tr>\n",
       "    <tr>\n",
       "      <th>2020-01-06</th>\n",
       "      <td>231.490005</td>\n",
       "      <td>235.529999</td>\n",
       "      <td>230.800003</td>\n",
       "      <td>235.429993</td>\n",
       "      <td>1460700.0</td>\n",
       "      <td>107.570000</td>\n",
       "      <td>110.220001</td>\n",
       "      <td>107.440002</td>\n",
       "      <td>110.169998</td>\n",
       "      <td>6764500.0</td>\n",
       "      <td>...</td>\n",
       "      <td>94.201770</td>\n",
       "      <td>95.032276</td>\n",
       "      <td>94.127123</td>\n",
       "      <td>95.022949</td>\n",
       "      <td>4612400.0</td>\n",
       "      <td>20.895891</td>\n",
       "      <td>21.386531</td>\n",
       "      <td>20.795075</td>\n",
       "      <td>21.211782</td>\n",
       "      <td>495100.0</td>\n",
       "    </tr>\n",
       "    <tr>\n",
       "      <th>2020-01-07</th>\n",
       "      <td>235.500000</td>\n",
       "      <td>236.850006</td>\n",
       "      <td>233.339996</td>\n",
       "      <td>233.699997</td>\n",
       "      <td>1367900.0</td>\n",
       "      <td>111.500000</td>\n",
       "      <td>111.559998</td>\n",
       "      <td>109.529999</td>\n",
       "      <td>109.669998</td>\n",
       "      <td>6898700.0</td>\n",
       "      <td>...</td>\n",
       "      <td>95.004274</td>\n",
       "      <td>95.872106</td>\n",
       "      <td>94.071121</td>\n",
       "      <td>94.976280</td>\n",
       "      <td>6719900.0</td>\n",
       "      <td>21.010149</td>\n",
       "      <td>21.668818</td>\n",
       "      <td>20.976543</td>\n",
       "      <td>21.480625</td>\n",
       "      <td>664000.0</td>\n",
       "    </tr>\n",
       "    <tr>\n",
       "      <th>2020-01-08</th>\n",
       "      <td>234.880005</td>\n",
       "      <td>238.009995</td>\n",
       "      <td>234.009995</td>\n",
       "      <td>237.270004</td>\n",
       "      <td>1883900.0</td>\n",
       "      <td>110.400002</td>\n",
       "      <td>112.639999</td>\n",
       "      <td>109.820000</td>\n",
       "      <td>111.820000</td>\n",
       "      <td>8293600.0</td>\n",
       "      <td>...</td>\n",
       "      <td>94.537704</td>\n",
       "      <td>95.312222</td>\n",
       "      <td>94.108454</td>\n",
       "      <td>94.761665</td>\n",
       "      <td>4942200.0</td>\n",
       "      <td>21.480623</td>\n",
       "      <td>21.736026</td>\n",
       "      <td>21.201698</td>\n",
       "      <td>21.635208</td>\n",
       "      <td>707900.0</td>\n",
       "    </tr>\n",
       "  </tbody>\n",
       "</table>\n",
       "<p>5 rows × 25 columns</p>\n",
       "</div>"
      ],
      "text/plain": [
       "Ticker            LULU                                                 \\\n",
       "Price             Open        High         Low       Close     Volume   \n",
       "Date                                                                    \n",
       "2020-01-02  232.899994  233.470001  231.770004  233.419998  1449300.0   \n",
       "2020-01-03  231.240005  234.500000  230.229996  232.639999  1315400.0   \n",
       "2020-01-06  231.490005  235.529999  230.800003  235.429993  1460700.0   \n",
       "2020-01-07  235.500000  236.850006  233.339996  233.699997  1367900.0   \n",
       "2020-01-08  234.880005  238.009995  234.009995  237.270004  1883900.0   \n",
       "\n",
       "Ticker            PYPL                                                 ...  \\\n",
       "Price             Open        High         Low       Close     Volume  ...   \n",
       "Date                                                                   ...   \n",
       "2020-01-02  109.470001  111.209999  109.275002  110.750000  7418800.0  ...   \n",
       "2020-01-03  109.489998  110.419998  108.760002  108.760002  7098300.0  ...   \n",
       "2020-01-06  107.570000  110.220001  107.440002  110.169998  6764500.0  ...   \n",
       "2020-01-07  111.500000  111.559998  109.529999  109.669998  6898700.0  ...   \n",
       "2020-01-08  110.400002  112.639999  109.820000  111.820000  8293600.0  ...   \n",
       "\n",
       "Ticker            NKE                                                     MC  \\\n",
       "Price            Open       High        Low      Close     Volume       Open   \n",
       "Date                                                                           \n",
       "2020-01-02  94.584357  95.377536  94.267082  95.368202  5644100.0  21.568006   \n",
       "2020-01-03  93.865816  95.181565  93.604534  95.106911  4541800.0  21.527674   \n",
       "2020-01-06  94.201770  95.032276  94.127123  95.022949  4612400.0  20.895891   \n",
       "2020-01-07  95.004274  95.872106  94.071121  94.976280  6719900.0  21.010149   \n",
       "2020-01-08  94.537704  95.312222  94.108454  94.761665  4942200.0  21.480623   \n",
       "\n",
       "Ticker                                                 \n",
       "Price            High        Low      Close    Volume  \n",
       "Date                                                   \n",
       "2020-01-02  21.803243  21.406700  21.789801  506500.0  \n",
       "2020-01-03  21.662097  20.956382  21.231947  506300.0  \n",
       "2020-01-06  21.386531  20.795075  21.211782  495100.0  \n",
       "2020-01-07  21.668818  20.976543  21.480625  664000.0  \n",
       "2020-01-08  21.736026  21.201698  21.635208  707900.0  \n",
       "\n",
       "[5 rows x 25 columns]"
      ]
     },
     "execution_count": 118,
     "metadata": {},
     "output_type": "execute_result"
    }
   ],
   "source": [
    "# Load the CSV with MultiIndex columns (Tickers, OHLCV)\n",
    "df = pd.read_csv(\"stock_data.csv\", header=[0,1], index_col=0)\n",
    "\n",
    "# Drop any rows that are completely NaN (e.g. 'Date' row)\n",
    "df = df.dropna(how='all')\n",
    "\n",
    "# Convert all values to float\n",
    "df = df.astype(float)\n",
    "\n",
    "# Show the result\n",
    "df.head()"
   ]
  },
  {
   "cell_type": "code",
   "execution_count": 119,
   "id": "1c4bb0dc",
   "metadata": {},
   "outputs": [],
   "source": [
    "# # Here you can plot the charts for every ticker\n",
    "\n",
    "# # For every ticker, plot Close\n",
    "# import matplotlib.pyplot as plt\n",
    "\n",
    "# for ticker in df.columns.levels[0]:\n",
    "#     plt.figure(figsize=(12, 6))\n",
    "#     plt.plot(df[ticker]['Close'], label=ticker)\n",
    "#     plt.title(f\"{ticker} Close Price\")\n",
    "#     plt.xlabel(\"Date\")\n",
    "#     plt.ylabel(\"Close Price\")\n",
    "#     plt.legend()\n",
    "#     plt.show()"
   ]
  },
  {
   "cell_type": "markdown",
   "id": "eb40390e",
   "metadata": {},
   "source": [
    "LULU Volume Analysis"
   ]
  },
  {
   "cell_type": "code",
   "execution_count": 120,
   "id": "0fd6ef86",
   "metadata": {},
   "outputs": [
    {
     "data": {
      "image/png": "[encoded data removed]",
      "text/plain": [
       "<Figure size 1200x800 with 2 Axes>"
      ]
     },
     "metadata": {},
     "output_type": "display_data"
    }
   ],
   "source": [
    "# Simple plot for ticker LULU with Close and Volume\n",
    "df['LULU'][['Close', 'Volume']].plot(subplots=True, figsize=(12, 8));"
   ]
  },
  {
   "cell_type": "code",
   "execution_count": 121,
   "id": "fa8098f0",
   "metadata": {},
   "outputs": [
    {
     "data": {
      "text/html": [
       "<div>\n",
       "<style scoped>\n",
       "    .dataframe tbody tr th:only-of-type {\n",
       "        vertical-align: middle;\n",
       "    }\n",
       "\n",
       "    .dataframe tbody tr th {\n",
       "        vertical-align: top;\n",
       "    }\n",
       "\n",
       "    .dataframe thead th {\n",
       "        text-align: right;\n",
       "    }\n",
       "</style>\n",
       "<table border=\"1\" class=\"dataframe\">\n",
       "  <thead>\n",
       "    <tr style=\"text-align: right;\">\n",
       "      <th>Price</th>\n",
       "      <th>Close</th>\n",
       "      <th>Volume</th>\n",
       "    </tr>\n",
       "    <tr>\n",
       "      <th>Date</th>\n",
       "      <th></th>\n",
       "      <th></th>\n",
       "    </tr>\n",
       "  </thead>\n",
       "  <tbody>\n",
       "    <tr>\n",
       "      <th>2020-01-02</th>\n",
       "      <td>233.419998</td>\n",
       "      <td>1449300.0</td>\n",
       "    </tr>\n",
       "    <tr>\n",
       "      <th>2020-01-03</th>\n",
       "      <td>232.639999</td>\n",
       "      <td>1315400.0</td>\n",
       "    </tr>\n",
       "    <tr>\n",
       "      <th>2020-01-06</th>\n",
       "      <td>235.429993</td>\n",
       "      <td>1460700.0</td>\n",
       "    </tr>\n",
       "    <tr>\n",
       "      <th>2020-01-07</th>\n",
       "      <td>233.699997</td>\n",
       "      <td>1367900.0</td>\n",
       "    </tr>\n",
       "    <tr>\n",
       "      <th>2020-01-08</th>\n",
       "      <td>237.270004</td>\n",
       "      <td>1883900.0</td>\n",
       "    </tr>\n",
       "  </tbody>\n",
       "</table>\n",
       "</div>"
      ],
      "text/plain": [
       "Price            Close     Volume\n",
       "Date                             \n",
       "2020-01-02  233.419998  1449300.0\n",
       "2020-01-03  232.639999  1315400.0\n",
       "2020-01-06  235.429993  1460700.0\n",
       "2020-01-07  233.699997  1367900.0\n",
       "2020-01-08  237.270004  1883900.0"
      ]
     },
     "execution_count": 121,
     "metadata": {},
     "output_type": "execute_result"
    }
   ],
   "source": [
    "# df LULU, df level 0 = 'LULU'\n",
    "lulu = df['LULU']\n",
    "\n",
    "# drop Open, High, Low\n",
    "lulu = lulu.drop(['Open', 'High', 'Low'], axis=1)\n",
    "\n",
    "lulu.head()"
   ]
  },
  {
   "cell_type": "code",
   "execution_count": 122,
   "id": "8352d3f8",
   "metadata": {},
   "outputs": [],
   "source": [
    "import plotly.io as pio\n",
    "pio.renderers.default = 'vscode'"
   ]
  },
  {
   "cell_type": "code",
   "execution_count": 123,
   "id": "55321d2a",
   "metadata": {},
   "outputs": [
    {
     "data": {
      "application/vnd.plotly.v1+json": {
       "config": {
        "plotlyServerURL": "https://plot.ly"
       },
       "data": [
        {
         "bingroup": "y",
         "histfunc": "sum",
         "hovertemplate": "sum of Volume=%{x}<br>Close=%{y}<extra></extra>",
         "legendgroup": "",
         "marker": {
          "color": "#636efa",
          "pattern": {
           "shape": ""
          }
         },
         "name": "",
         "nbinsy": 150,
         "orientation": "h",
         "showlegend": false,
         "type": "histogram",
         "x": {
          "bdata": "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",
          "dtype": "f8"
         },
         "xaxis": "x",
         "y": {
          "bdata": "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",
          "dtype": "f8"
         },
         "yaxis": "y"
        }
       ],
       "layout": {
        "barmode": "relative",
        "legend": {
         "tracegroupgap": 0
        },
        "margin": {
         "t": 60
        },
        "template": {
         "data": {
          "bar": [
           {
            "error_x": {
             "color": "#2a3f5f"
            },
            "error_y": {
             "color": "#2a3f5f"
            },
            "marker": {
             "line": {
              "color": "#E5ECF6",
              "width": 0.5
             },
             "pattern": {
              "fillmode": "overlay",
              "size": 10,
              "solidity": 0.2
             }
            },
            "type": "bar"
           }
          ],
          "barpolar": [
           {
            "marker": {
             "line": {
              "color": "#E5ECF6",
              "width": 0.5
             },
             "pattern": {
              "fillmode": "overlay",
              "size": 10,
              "solidity": 0.2
             }
            },
            "type": "barpolar"
           }
          ],
          "carpet": [
           {
            "aaxis": {
             "endlinecolor": "#2a3f5f",
             "gridcolor": "white",
             "linecolor": "white",
             "minorgridcolor": "white",
             "startlinecolor": "#2a3f5f"
            },
            "baxis": {
             "endlinecolor": "#2a3f5f",
             "gridcolor": "white",
             "linecolor": "white",
             "minorgridcolor": "white",
             "startlinecolor": "#2a3f5f"
            },
            "type": "carpet"
           }
          ],
          "choropleth": [
           {
            "colorbar": {
             "outlinewidth": 0,
             "ticks": ""
            },
            "type": "choropleth"
           }
          ],
          "contour": [
           {
            "colorbar": {
             "outlinewidth": 0,
             "ticks": ""
            },
            "colorscale": [
             [
              0,
              "#0d0887"
             ],
             [
              0.1111111111111111,
              "#46039f"
             ],
             [
              0.2222222222222222,
              "#7201a8"
             ],
             [
              0.3333333333333333,
              "#9c179e"
             ],
             [
              0.4444444444444444,
              "#bd3786"
             ],
             [
              0.5555555555555556,
              "#d8576b"
             ],
             [
              0.6666666666666666,
              "#ed7953"
             ],
             [
              0.7777777777777778,
              "#fb9f3a"
             ],
             [
              0.8888888888888888,
              "#fdca26"
             ],
             [
              1,
              "#f0f921"
             ]
            ],
            "type": "contour"
           }
          ],
          "contourcarpet": [
           {
            "colorbar": {
             "outlinewidth": 0,
             "ticks": ""
            },
            "type": "contourcarpet"
           }
          ],
          "heatmap": [
           {
            "colorbar": {
             "outlinewidth": 0,
             "ticks": ""
            },
            "colorscale": [
             [
              0,
              "#0d0887"
             ],
             [
              0.1111111111111111,
              "#46039f"
             ],
             [
              0.2222222222222222,
              "#7201a8"
             ],
             [
              0.3333333333333333,
              "#9c179e"
             ],
             [
              0.4444444444444444,
              "#bd3786"
             ],
             [
              0.5555555555555556,
              "#d8576b"
             ],
             [
              0.6666666666666666,
              "#ed7953"
             ],
             [
              0.7777777777777778,
              "#fb9f3a"
             ],
             [
              0.8888888888888888,
              "#fdca26"
             ],
             [
              1,
              "#f0f921"
             ]
            ],
            "type": "heatmap"
           }
          ],
          "histogram": [
           {
            "marker": {
             "pattern": {
              "fillmode": "overlay",
              "size": 10,
              "solidity": 0.2
             }
            },
            "type": "histogram"
           }
          ],
          "histogram2d": [
           {
            "colorbar": {
             "outlinewidth": 0,
             "ticks": ""
            },
            "colorscale": [
             [
              0,
              "#0d0887"
             ],
             [
              0.1111111111111111,
              "#46039f"
             ],
             [
              0.2222222222222222,
              "#7201a8"
             ],
             [
              0.3333333333333333,
              "#9c179e"
             ],
             [
              0.4444444444444444,
              "#bd3786"
             ],
             [
              0.5555555555555556,
              "#d8576b"
             ],
             [
              0.6666666666666666,
              "#ed7953"
             ],
             [
              0.7777777777777778,
              "#fb9f3a"
             ],
             [
              0.8888888888888888,
              "#fdca26"
             ],
             [
              1,
              "#f0f921"
             ]
            ],
            "type": "histogram2d"
           }
          ],
          "histogram2dcontour": [
           {
            "colorbar": {
             "outlinewidth": 0,
             "ticks": ""
            },
            "colorscale": [
             [
              0,
              "#0d0887"
             ],
             [
              0.1111111111111111,
              "#46039f"
             ],
             [
              0.2222222222222222,
              "#7201a8"
             ],
             [
              0.3333333333333333,
              "#9c179e"
             ],
             [
              0.4444444444444444,
              "#bd3786"
             ],
             [
              0.5555555555555556,
              "#d8576b"
             ],
             [
              0.6666666666666666,
              "#ed7953"
             ],
             [
              0.7777777777777778,
              "#fb9f3a"
             ],
             [
              0.8888888888888888,
              "#fdca26"
             ],
             [
              1,
              "#f0f921"
             ]
            ],
            "type": "histogram2dcontour"
           }
          ],
          "mesh3d": [
           {
            "colorbar": {
             "outlinewidth": 0,
             "ticks": ""
            },
            "type": "mesh3d"
           }
          ],
          "parcoords": [
           {
            "line": {
             "colorbar": {
              "outlinewidth": 0,
              "ticks": ""
             }
            },
            "type": "parcoords"
           }
          ],
          "pie": [
           {
            "automargin": true,
            "type": "pie"
           }
          ],
          "scatter": [
           {
            "fillpattern": {
             "fillmode": "overlay",
             "size": 10,
             "solidity": 0.2
            },
            "type": "scatter"
           }
          ],
          "scatter3d": [
           {
            "line": {
             "colorbar": {
              "outlinewidth": 0,
              "ticks": ""
             }
            },
            "marker": {
             "colorbar": {
              "outlinewidth": 0,
              "ticks": ""
             }
            },
            "type": "scatter3d"
           }
          ],
          "scattercarpet": [
           {
            "marker": {
             "colorbar": {
              "outlinewidth": 0,
              "ticks": ""
             }
            },
            "type": "scattercarpet"
           }
          ],
          "scattergeo": [
           {
            "marker": {
             "colorbar": {
              "outlinewidth": 0,
              "ticks": ""
             }
            },
            "type": "scattergeo"
           }
          ],
          "scattergl": [
           {
            "marker": {
             "colorbar": {
              "outlinewidth": 0,
              "ticks": ""
             }
            },
            "type": "scattergl"
           }
          ],
          "scattermap": [
           {
            "marker": {
             "colorbar": {
              "outlinewidth": 0,
              "ticks": ""
             }
            },
            "type": "scattermap"
           }
          ],
          "scattermapbox": [
           {
            "marker": {
             "colorbar": {
              "outlinewidth": 0,
              "ticks": ""
             }
            },
            "type": "scattermapbox"
           }
          ],
          "scatterpolar": [
           {
            "marker": {
             "colorbar": {
              "outlinewidth": 0,
              "ticks": ""
             }
            },
            "type": "scatterpolar"
           }
          ],
          "scatterpolargl": [
           {
            "marker": {
             "colorbar": {
              "outlinewidth": 0,
              "ticks": ""
             }
            },
            "type": "scatterpolargl"
           }
          ],
          "scatterternary": [
           {
            "marker": {
             "colorbar": {
              "outlinewidth": 0,
              "ticks": ""
             }
            },
            "type": "scatterternary"
           }
          ],
          "surface": [
           {
            "colorbar": {
             "outlinewidth": 0,
             "ticks": ""
            },
            "colorscale": [
             [
              0,
              "#0d0887"
             ],
             [
              0.1111111111111111,
              "#46039f"
             ],
             [
              0.2222222222222222,
              "#7201a8"
             ],
             [
              0.3333333333333333,
              "#9c179e"
             ],
             [
              0.4444444444444444,
              "#bd3786"
             ],
             [
              0.5555555555555556,
              "#d8576b"
             ],
             [
              0.6666666666666666,
              "#ed7953"
             ],
             [
              0.7777777777777778,
              "#fb9f3a"
             ],
             [
              0.8888888888888888,
              "#fdca26"
             ],
             [
              1,
              "#f0f921"
             ]
            ],
            "type": "surface"
           }
          ],
          "table": [
           {
            "cells": {
             "fill": {
              "color": "#EBF0F8"
             },
             "line": {
              "color": "white"
             }
            },
            "header": {
             "fill": {
              "color": "#C8D4E3"
             },
             "line": {
              "color": "white"
             }
            },
            "type": "table"
           }
          ]
         },
         "layout": {
          "annotationdefaults": {
           "arrowcolor": "#2a3f5f",
           "arrowhead": 0,
           "arrowwidth": 1
          },
          "autotypenumbers": "strict",
          "coloraxis": {
           "colorbar": {
            "outlinewidth": 0,
            "ticks": ""
           }
          },
          "colorscale": {
           "diverging": [
            [
             0,
             "#8e0152"
            ],
            [
             0.1,
             "#c51b7d"
            ],
            [
             0.2,
             "#de77ae"
            ],
            [
             0.3,
             "#f1b6da"
            ],
            [
             0.4,
             "#fde0ef"
            ],
            [
             0.5,
             "#f7f7f7"
            ],
            [
             0.6,
             "#e6f5d0"
            ],
            [
             0.7,
             "#b8e186"
            ],
            [
             0.8,
             "#7fbc41"
            ],
            [
             0.9,
             "#4d9221"
            ],
            [
             1,
             "#276419"
            ]
           ],
           "sequential": [
            [
             0,
             "#0d0887"
            ],
            [
             0.1111111111111111,
             "#46039f"
            ],
            [
             0.2222222222222222,
             "#7201a8"
            ],
            [
             0.3333333333333333,
             "#9c179e"
            ],
            [
             0.4444444444444444,
             "#bd3786"
            ],
            [
             0.5555555555555556,
             "#d8576b"
            ],
            [
             0.6666666666666666,
             "#ed7953"
            ],
            [
             0.7777777777777778,
             "#fb9f3a"
            ],
            [
             0.8888888888888888,
             "#fdca26"
            ],
            [
             1,
             "#f0f921"
            ]
           ],
           "sequentialminus": [
            [
             0,
             "#0d0887"
            ],
            [
             0.1111111111111111,
             "#46039f"
            ],
            [
             0.2222222222222222,
             "#7201a8"
            ],
            [
             0.3333333333333333,
             "#9c179e"
            ],
            [
             0.4444444444444444,
             "#bd3786"
            ],
            [
             0.5555555555555556,
             "#d8576b"
            ],
            [
             0.6666666666666666,
             "#ed7953"
            ],
            [
             0.7777777777777778,
             "#fb9f3a"
            ],
            [
             0.8888888888888888,
             "#fdca26"
            ],
            [
             1,
             "#f0f921"
            ]
           ]
          },
          "colorway": [
           "#636efa",
           "#EF553B",
           "#00cc96",
           "#ab63fa",
           "#FFA15A",
           "#19d3f3",
           "#FF6692",
           "#B6E880",
           "#FF97FF",
           "#FECB52"
          ],
          "font": {
           "color": "#2a3f5f"
          },
          "geo": {
           "bgcolor": "white",
           "lakecolor": "white",
           "landcolor": "#E5ECF6",
           "showlakes": true,
           "showland": true,
           "subunitcolor": "white"
          },
          "hoverlabel": {
           "align": "left"
          },
          "hovermode": "closest",
          "mapbox": {
           "style": "light"
          },
          "paper_bgcolor": "white",
          "plot_bgcolor": "#E5ECF6",
          "polar": {
           "angularaxis": {
            "gridcolor": "white",
            "linecolor": "white",
            "ticks": ""
           },
           "bgcolor": "#E5ECF6",
           "radialaxis": {
            "gridcolor": "white",
            "linecolor": "white",
            "ticks": ""
           }
          },
          "scene": {
           "xaxis": {
            "backgroundcolor": "#E5ECF6",
            "gridcolor": "white",
            "gridwidth": 2,
            "linecolor": "white",
            "showbackground": true,
            "ticks": "",
            "zerolinecolor": "white"
           },
           "yaxis": {
            "backgroundcolor": "#E5ECF6",
            "gridcolor": "white",
            "gridwidth": 2,
            "linecolor": "white",
            "showbackground": true,
            "ticks": "",
            "zerolinecolor": "white"
           },
           "zaxis": {
            "backgroundcolor": "#E5ECF6",
            "gridcolor": "white",
            "gridwidth": 2,
            "linecolor": "white",
            "showbackground": true,
            "ticks": "",
            "zerolinecolor": "white"
           }
          },
          "shapedefaults": {
           "line": {
            "color": "#2a3f5f"
           }
          },
          "ternary": {
           "aaxis": {
            "gridcolor": "white",
            "linecolor": "white",
            "ticks": ""
           },
           "baxis": {
            "gridcolor": "white",
            "linecolor": "white",
            "ticks": ""
           },
           "bgcolor": "#E5ECF6",
           "caxis": {
            "gridcolor": "white",
            "linecolor": "white",
            "ticks": ""
           }
          },
          "title": {
           "x": 0.05
          },
          "xaxis": {
           "automargin": true,
           "gridcolor": "white",
           "linecolor": "white",
           "ticks": "",
           "title": {
            "standoff": 15
           },
           "zerolinecolor": "white",
           "zerolinewidth": 2
          },
          "yaxis": {
           "automargin": true,
           "gridcolor": "white",
           "linecolor": "white",
           "ticks": "",
           "title": {
            "standoff": 15
           },
           "zerolinecolor": "white",
           "zerolinewidth": 2
          }
         }
        },
        "xaxis": {
         "anchor": "y",
         "domain": [
          0,
          1
         ],
         "title": {
          "text": "sum of Volume"
         }
        },
        "yaxis": {
         "anchor": "x",
         "domain": [
          0,
          1
         ],
         "title": {
          "text": "Close"
         }
        }
       }
      }
     },
     "metadata": {},
     "output_type": "display_data"
    }
   ],
   "source": [
    "import plotly.express as px\n",
    "import plotly.graph_objects as go\n",
    "\n",
    "px.histogram(lulu, x='Volume', y='Close', nbins=150, orientation='h').show()"
   ]
  },
  {
   "cell_type": "code",
   "execution_count": 124,
   "id": "022e9f54",
   "metadata": {},
   "outputs": [
    {
     "data": {
      "application/vnd.plotly.v1+json": {
       "config": {
        "plotlyServerURL": "https://plot.ly"
       },
       "data": [
        {
         "histfunc": "sum",
         "histnorm": "probability density",
         "marker": {
          "color": "#B0C4DE"
         },
         "name": "Vol Profile",
         "nbinsx": 150,
         "type": "histogram",
         "x": {
          "bdata": "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",
          "dtype": "f8"
         },
         "y": {
          "bdata": "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",
          "dtype": "f8"
         }
        },
        {
         "marker": {
          "color": "#D2691E"
         },
         "mode": "lines",
         "name": "KDE",
         "type": "scatter",
         "x": {
          "bdata": "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",
          "dtype": "f8"
         },
         "y": {
          "bdata": "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",
          "dtype": "f8"
         }
        }
       ],
       "layout": {
        "template": {
         "data": {
          "bar": [
           {
            "error_x": {
             "color": "#2a3f5f"
            },
            "error_y": {
             "color": "#2a3f5f"
            },
            "marker": {
             "line": {
              "color": "#E5ECF6",
              "width": 0.5
             },
             "pattern": {
              "fillmode": "overlay",
              "size": 10,
              "solidity": 0.2
             }
            },
            "type": "bar"
           }
          ],
          "barpolar": [
           {
            "marker": {
             "line": {
              "color": "#E5ECF6",
              "width": 0.5
             },
             "pattern": {
              "fillmode": "overlay",
              "size": 10,
              "solidity": 0.2
             }
            },
            "type": "barpolar"
           }
          ],
          "carpet": [
           {
            "aaxis": {
             "endlinecolor": "#2a3f5f",
             "gridcolor": "white",
             "linecolor": "white",
             "minorgridcolor": "white",
             "startlinecolor": "#2a3f5f"
            },
            "baxis": {
             "endlinecolor": "#2a3f5f",
             "gridcolor": "white",
             "linecolor": "white",
             "minorgridcolor": "white",
             "startlinecolor": "#2a3f5f"
            },
            "type": "carpet"
           }
          ],
          "choropleth": [
           {
            "colorbar": {
             "outlinewidth": 0,
             "ticks": ""
            },
            "type": "choropleth"
           }
          ],
          "contour": [
           {
            "colorbar": {
             "outlinewidth": 0,
             "ticks": ""
            },
            "colorscale": [
             [
              0,
              "#0d0887"
             ],
             [
              0.1111111111111111,
              "#46039f"
             ],
             [
              0.2222222222222222,
              "#7201a8"
             ],
             [
              0.3333333333333333,
              "#9c179e"
             ],
             [
              0.4444444444444444,
              "#bd3786"
             ],
             [
              0.5555555555555556,
              "#d8576b"
             ],
             [
              0.6666666666666666,
              "#ed7953"
             ],
             [
              0.7777777777777778,
              "#fb9f3a"
             ],
             [
              0.8888888888888888,
              "#fdca26"
             ],
             [
              1,
              "#f0f921"
             ]
            ],
            "type": "contour"
           }
          ],
          "contourcarpet": [
           {
            "colorbar": {
             "outlinewidth": 0,
             "ticks": ""
            },
            "type": "contourcarpet"
           }
          ],
          "heatmap": [
           {
            "colorbar": {
             "outlinewidth": 0,
             "ticks": ""
            },
            "colorscale": [
             [
              0,
              "#0d0887"
             ],
             [
              0.1111111111111111,
              "#46039f"
             ],
             [
              0.2222222222222222,
              "#7201a8"
             ],
             [
              0.3333333333333333,
              "#9c179e"
             ],
             [
              0.4444444444444444,
              "#bd3786"
             ],
             [
              0.5555555555555556,
              "#d8576b"
             ],
             [
              0.6666666666666666,
              "#ed7953"
             ],
             [
              0.7777777777777778,
              "#fb9f3a"
             ],
             [
              0.8888888888888888,
              "#fdca26"
             ],
             [
              1,
              "#f0f921"
             ]
            ],
            "type": "heatmap"
           }
          ],
          "histogram": [
           {
            "marker": {
             "pattern": {
              "fillmode": "overlay",
              "size": 10,
              "solidity": 0.2
             }
            },
            "type": "histogram"
           }
          ],
          "histogram2d": [
           {
            "colorbar": {
             "outlinewidth": 0,
             "ticks": ""
            },
            "colorscale": [
             [
              0,
              "#0d0887"
             ],
             [
              0.1111111111111111,
              "#46039f"
             ],
             [
              0.2222222222222222,
              "#7201a8"
             ],
             [
              0.3333333333333333,
              "#9c179e"
             ],
             [
              0.4444444444444444,
              "#bd3786"
             ],
             [
              0.5555555555555556,
              "#d8576b"
             ],
             [
              0.6666666666666666,
              "#ed7953"
             ],
             [
              0.7777777777777778,
              "#fb9f3a"
             ],
             [
              0.8888888888888888,
              "#fdca26"
             ],
             [
              1,
              "#f0f921"
             ]
            ],
            "type": "histogram2d"
           }
          ],
          "histogram2dcontour": [
           {
            "colorbar": {
             "outlinewidth": 0,
             "ticks": ""
            },
            "colorscale": [
             [
              0,
              "#0d0887"
             ],
             [
              0.1111111111111111,
              "#46039f"
             ],
             [
              0.2222222222222222,
              "#7201a8"
             ],
             [
              0.3333333333333333,
              "#9c179e"
             ],
             [
              0.4444444444444444,
              "#bd3786"
             ],
             [
              0.5555555555555556,
              "#d8576b"
             ],
             [
              0.6666666666666666,
              "#ed7953"
             ],
             [
              0.7777777777777778,
              "#fb9f3a"
             ],
             [
              0.8888888888888888,
              "#fdca26"
             ],
             [
              1,
              "#f0f921"
             ]
            ],
            "type": "histogram2dcontour"
           }
          ],
          "mesh3d": [
           {
            "colorbar": {
             "outlinewidth": 0,
             "ticks": ""
            },
            "type": "mesh3d"
           }
          ],
          "parcoords": [
           {
            "line": {
             "colorbar": {
              "outlinewidth": 0,
              "ticks": ""
             }
            },
            "type": "parcoords"
           }
          ],
          "pie": [
           {
            "automargin": true,
            "type": "pie"
           }
          ],
          "scatter": [
           {
            "fillpattern": {
             "fillmode": "overlay",
             "size": 10,
             "solidity": 0.2
            },
            "type": "scatter"
           }
          ],
          "scatter3d": [
           {
            "line": {
             "colorbar": {
              "outlinewidth": 0,
              "ticks": ""
             }
            },
            "marker": {
             "colorbar": {
              "outlinewidth": 0,
              "ticks": ""
             }
            },
            "type": "scatter3d"
           }
          ],
          "scattercarpet": [
           {
            "marker": {
             "colorbar": {
              "outlinewidth": 0,
              "ticks": ""
             }
            },
            "type": "scattercarpet"
           }
          ],
          "scattergeo": [
           {
            "marker": {
             "colorbar": {
              "outlinewidth": 0,
              "ticks": ""
             }
            },
            "type": "scattergeo"
           }
          ],
          "scattergl": [
           {
            "marker": {
             "colorbar": {
              "outlinewidth": 0,
              "ticks": ""
             }
            },
            "type": "scattergl"
           }
          ],
          "scattermap": [
           {
            "marker": {
             "colorbar": {
              "outlinewidth": 0,
              "ticks": ""
             }
            },
            "type": "scattermap"
           }
          ],
          "scattermapbox": [
           {
            "marker": {
             "colorbar": {
              "outlinewidth": 0,
              "ticks": ""
             }
            },
            "type": "scattermapbox"
           }
          ],
          "scatterpolar": [
           {
            "marker": {
             "colorbar": {
              "outlinewidth": 0,
              "ticks": ""
             }
            },
            "type": "scatterpolar"
           }
          ],
          "scatterpolargl": [
           {
            "marker": {
             "colorbar": {
              "outlinewidth": 0,
              "ticks": ""
             }
            },
            "type": "scatterpolargl"
           }
          ],
          "scatterternary": [
           {
            "marker": {
             "colorbar": {
              "outlinewidth": 0,
              "ticks": ""
             }
            },
            "type": "scatterternary"
           }
          ],
          "surface": [
           {
            "colorbar": {
             "outlinewidth": 0,
             "ticks": ""
            },
            "colorscale": [
             [
              0,
              "#0d0887"
             ],
             [
              0.1111111111111111,
              "#46039f"
             ],
             [
              0.2222222222222222,
              "#7201a8"
             ],
             [
              0.3333333333333333,
              "#9c179e"
             ],
             [
              0.4444444444444444,
              "#bd3786"
             ],
             [
              0.5555555555555556,
              "#d8576b"
             ],
             [
              0.6666666666666666,
              "#ed7953"
             ],
             [
              0.7777777777777778,
              "#fb9f3a"
             ],
             [
              0.8888888888888888,
              "#fdca26"
             ],
             [
              1,
              "#f0f921"
             ]
            ],
            "type": "surface"
           }
          ],
          "table": [
           {
            "cells": {
             "fill": {
              "color": "#EBF0F8"
             },
             "line": {
              "color": "white"
             }
            },
            "header": {
             "fill": {
              "color": "#C8D4E3"
             },
             "line": {
              "color": "white"
             }
            },
            "type": "table"
           }
          ]
         },
         "layout": {
          "annotationdefaults": {
           "arrowcolor": "#2a3f5f",
           "arrowhead": 0,
           "arrowwidth": 1
          },
          "autotypenumbers": "strict",
          "coloraxis": {
           "colorbar": {
            "outlinewidth": 0,
            "ticks": ""
           }
          },
          "colorscale": {
           "diverging": [
            [
             0,
             "#8e0152"
            ],
            [
             0.1,
             "#c51b7d"
            ],
            [
             0.2,
             "#de77ae"
            ],
            [
             0.3,
             "#f1b6da"
            ],
            [
             0.4,
             "#fde0ef"
            ],
            [
             0.5,
             "#f7f7f7"
            ],
            [
             0.6,
             "#e6f5d0"
            ],
            [
             0.7,
             "#b8e186"
            ],
            [
             0.8,
             "#7fbc41"
            ],
            [
             0.9,
             "#4d9221"
            ],
            [
             1,
             "#276419"
            ]
           ],
           "sequential": [
            [
             0,
             "#0d0887"
            ],
            [
             0.1111111111111111,
             "#46039f"
            ],
            [
             0.2222222222222222,
             "#7201a8"
            ],
            [
             0.3333333333333333,
             "#9c179e"
            ],
            [
             0.4444444444444444,
             "#bd3786"
            ],
            [
             0.5555555555555556,
             "#d8576b"
            ],
            [
             0.6666666666666666,
             "#ed7953"
            ],
            [
             0.7777777777777778,
             "#fb9f3a"
            ],
            [
             0.8888888888888888,
             "#fdca26"
            ],
            [
             1,
             "#f0f921"
            ]
           ],
           "sequentialminus": [
            [
             0,
             "#0d0887"
            ],
            [
             0.1111111111111111,
             "#46039f"
            ],
            [
             0.2222222222222222,
             "#7201a8"
            ],
            [
             0.3333333333333333,
             "#9c179e"
            ],
            [
             0.4444444444444444,
             "#bd3786"
            ],
            [
             0.5555555555555556,
             "#d8576b"
            ],
            [
             0.6666666666666666,
             "#ed7953"
            ],
            [
             0.7777777777777778,
             "#fb9f3a"
            ],
            [
             0.8888888888888888,
             "#fdca26"
            ],
            [
             1,
             "#f0f921"
            ]
           ]
          },
          "colorway": [
           "#636efa",
           "#EF553B",
           "#00cc96",
           "#ab63fa",
           "#FFA15A",
           "#19d3f3",
           "#FF6692",
           "#B6E880",
           "#FF97FF",
           "#FECB52"
          ],
          "font": {
           "color": "#2a3f5f"
          },
          "geo": {
           "bgcolor": "white",
           "lakecolor": "white",
           "landcolor": "#E5ECF6",
           "showlakes": true,
           "showland": true,
           "subunitcolor": "white"
          },
          "hoverlabel": {
           "align": "left"
          },
          "hovermode": "closest",
          "mapbox": {
           "style": "light"
          },
          "paper_bgcolor": "white",
          "plot_bgcolor": "#E5ECF6",
          "polar": {
           "angularaxis": {
            "gridcolor": "white",
            "linecolor": "white",
            "ticks": ""
           },
           "bgcolor": "#E5ECF6",
           "radialaxis": {
            "gridcolor": "white",
            "linecolor": "white",
            "ticks": ""
           }
          },
          "scene": {
           "xaxis": {
            "backgroundcolor": "#E5ECF6",
            "gridcolor": "white",
            "gridwidth": 2,
            "linecolor": "white",
            "showbackground": true,
            "ticks": "",
            "zerolinecolor": "white"
           },
           "yaxis": {
            "backgroundcolor": "#E5ECF6",
            "gridcolor": "white",
            "gridwidth": 2,
            "linecolor": "white",
            "showbackground": true,
            "ticks": "",
            "zerolinecolor": "white"
           },
           "zaxis": {
            "backgroundcolor": "#E5ECF6",
            "gridcolor": "white",
            "gridwidth": 2,
            "linecolor": "white",
            "showbackground": true,
            "ticks": "",
            "zerolinecolor": "white"
           }
          },
          "shapedefaults": {
           "line": {
            "color": "#2a3f5f"
           }
          },
          "ternary": {
           "aaxis": {
            "gridcolor": "white",
            "linecolor": "white",
            "ticks": ""
           },
           "baxis": {
            "gridcolor": "white",
            "linecolor": "white",
            "ticks": ""
           },
           "bgcolor": "#E5ECF6",
           "caxis": {
            "gridcolor": "white",
            "linecolor": "white",
            "ticks": ""
           }
          },
          "title": {
           "x": 0.05
          },
          "xaxis": {
           "automargin": true,
           "gridcolor": "white",
           "linecolor": "white",
           "ticks": "",
           "title": {
            "standoff": 15
           },
           "zerolinecolor": "white",
           "zerolinewidth": 2
          },
          "yaxis": {
           "automargin": true,
           "gridcolor": "white",
           "linecolor": "white",
           "ticks": "",
           "title": {
            "standoff": 15
           },
           "zerolinecolor": "white",
           "zerolinewidth": 2
          }
         }
        }
       }
      }
     },
     "metadata": {},
     "output_type": "display_data"
    }
   ],
   "source": [
    "# Kernel Density Estimator (KDE) plot\n",
    "from scipy import stats, signal\n",
    "\n",
    "\"\"\"\n",
    "stats provides statistical functions and probability distributions for data analysis.\n",
    "\n",
    "signal offers tools for signal processing, such as filtering, peak detection, \n",
    "and Fourier transforms.\n",
    "\n",
    "These modules are commonly used for advanced data analysis and scientific computing in Python.\n",
    "\"\"\"\n",
    "\n",
    "kde_factor = 0.05\n",
    "num_samples = 500\n",
    "kde = stats.gaussian_kde(lulu.Close,weights=lulu.Volume,bw_method=kde_factor)\n",
    "xr = np.linspace(lulu.Close.min(),lulu.Close.max(),num_samples)\n",
    "kdy = kde(xr)\n",
    "ticks_per_sample = (xr.max() - xr.min()) / num_samples\n",
    "\n",
    "def get_dist_plot(c, v, kx, ky):\n",
    "    fig = go.Figure()\n",
    "    fig.add_trace(go.Histogram(name='Vol Profile', x=c, y=v, nbinsx=150, \n",
    "                               histfunc='sum', histnorm='probability density',\n",
    "                               marker_color='#B0C4DE'))\n",
    "    fig.add_trace(go.Scatter(name='KDE', x=kx, y=ky, mode='lines', marker_color='#D2691E'))\n",
    "    return fig\n",
    "\n",
    "get_dist_plot(lulu.Close, lulu.Volume, xr, kdy).show()"
   ]
  },
  {
   "cell_type": "markdown",
   "id": "8ee56e9e",
   "metadata": {},
   "source": [
    "The Kernel Density Estimator (KDE) is a non-parametric method to estimate the probability density function of a continuous variable. It smooths the observed data using a kernel function, providing a continuous curve that represents the distribution of the data. KDE is useful for visualizing the underlying structure of the data, identifying modes, and comparing distributions."
   ]
  },
  {
   "cell_type": "code",
   "execution_count": 125,
   "metadata": {},
   "outputs": [
    {
     "data": {
      "application/vnd.plotly.v1+json": {
       "config": {
        "plotlyServerURL": "https://plot.ly"
       },
       "data": [
        {
         "histfunc": "sum",
         "histnorm": "probability density",
         "marker": {
          "color": "#B0C4DE"
         },
         "name": "Vol Profile",
         "nbinsx": 150,
         "type": "histogram",
         "x": {
          "bdata": "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",
          "dtype": "f8"
         },
         "y": {
          "bdata": "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",
          "dtype": "f8"
         }
        },
        {
         "marker": {
          "color": "#D2691E"
         },
         "mode": "lines",
         "name": "KDE",
         "type": "scatter",
         "x": {
          "bdata": "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",
          "dtype": "f8"
         },
         "y": {
          "bdata": "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",
          "dtype": "f8"
         }
        },
        {
         "marker": {
          "size": 10
         },
         "mode": "markers",
         "name": "Peaks",
         "type": "scatter",
         "x": {
          "bdata": "Zl6YbRyPYUAr379Ov1RjQPBf5y9iGmVARzJqy8eNaED+Jnz6D5dtQF9dDsyRtW5AeNc0Q6oxcEAMs5GcvKNxQKGi8TNunnJAAtmDBfC8c0CUoN0gY6Z1QI7u1QXV0HZAWJcDY7and0DrcmC8yBl5QIHswfLJ2HlA2UhGLX8QfUBwwqdjgM99QJ9Tb61xmn5AmytpMTOJf0A=",
          "dtype": "f8"
         },
         "y": {
          "bdata": "Diq/f8PzPD8bSB/tPrciP3M+hRwpnDw/K5/lQTY5ZD8Gc5RTzB1qPxEKtvaaSWk/v2ImPcxIcT+RDWOVrgZmPzbaqM1Ey3o/mNN+tZqbgz9qpJGG9gdxP1qdZtr2snQ/RHAwH4/wdj9/6n4JC/VtP7NZnUc5A2Y/cMYvlbi9Vj+DaHjai8BHPxCuuHtBkUk/B++/YuojQj8=",
          "dtype": "f8"
         }
        }
       ],
       "layout": {
        "template": {
         "data": {
          "bar": [
           {
            "error_x": {
             "color": "#2a3f5f"
            },
            "error_y": {
             "color": "#2a3f5f"
            },
            "marker": {
             "line": {
              "color": "#E5ECF6",
              "width": 0.5
             },
             "pattern": {
              "fillmode": "overlay",
              "size": 10,
              "solidity": 0.2
             }
            },
            "type": "bar"
           }
          ],
          "barpolar": [
           {
            "marker": {
             "line": {
              "color": "#E5ECF6",
              "width": 0.5
             },
             "pattern": {
              "fillmode": "overlay",
              "size": 10,
              "solidity": 0.2
             }
            },
            "type": "barpolar"
           }
          ],
          "carpet": [
           {
            "aaxis": {
             "endlinecolor": "#2a3f5f",
             "gridcolor": "white",
             "linecolor": "white",
             "minorgridcolor": "white",
             "startlinecolor": "#2a3f5f"
            },
            "baxis": {
             "endlinecolor": "#2a3f5f",
             "gridcolor": "white",
             "linecolor": "white",
             "minorgridcolor": "white",
             "startlinecolor": "#2a3f5f"
            },
            "type": "carpet"
           }
          ],
          "choropleth": [
           {
            "colorbar": {
             "outlinewidth": 0,
             "ticks": ""
            },
            "type": "choropleth"
           }
          ],
          "contour": [
           {
            "colorbar": {
             "outlinewidth": 0,
             "ticks": ""
            },
            "colorscale": [
             [
              0,
              "#0d0887"
             ],
             [
              0.1111111111111111,
              "#46039f"
             ],
             [
              0.2222222222222222,
              "#7201a8"
             ],
             [
              0.3333333333333333,
              "#9c179e"
             ],
             [
              0.4444444444444444,
              "#bd3786"
             ],
             [
              0.5555555555555556,
              "#d8576b"
             ],
             [
              0.6666666666666666,
              "#ed7953"
             ],
             [
              0.7777777777777778,
              "#fb9f3a"
             ],
             [
              0.8888888888888888,
              "#fdca26"
             ],
             [
              1,
              "#f0f921"
             ]
            ],
            "type": "contour"
           }
          ],
          "contourcarpet": [
           {
            "colorbar": {
             "outlinewidth": 0,
             "ticks": ""
            },
            "type": "contourcarpet"
           }
          ],
          "heatmap": [
           {
            "colorbar": {
             "outlinewidth": 0,
             "ticks": ""
            },
            "colorscale": [
             [
              0,
              "#0d0887"
             ],
             [
              0.1111111111111111,
              "#46039f"
             ],
             [
              0.2222222222222222,
              "#7201a8"
             ],
             [
              0.3333333333333333,
              "#9c179e"
             ],
             [
              0.4444444444444444,
              "#bd3786"
             ],
             [
              0.5555555555555556,
              "#d8576b"
             ],
             [
              0.6666666666666666,
              "#ed7953"
             ],
             [
              0.7777777777777778,
              "#fb9f3a"
             ],
             [
              0.8888888888888888,
              "#fdca26"
             ],
             [
              1,
              "#f0f921"
             ]
            ],
            "type": "heatmap"
           }
          ],
          "histogram": [
           {
            "marker": {
             "pattern": {
              "fillmode": "overlay",
              "size": 10,
              "solidity": 0.2
             }
            },
            "type": "histogram"
           }
          ],
          "histogram2d": [
           {
            "colorbar": {
             "outlinewidth": 0,
             "ticks": ""
            },
            "colorscale": [
             [
              0,
              "#0d0887"
             ],
             [
              0.1111111111111111,
              "#46039f"
             ],
             [
              0.2222222222222222,
              "#7201a8"
             ],
             [
              0.3333333333333333,
              "#9c179e"
             ],
             [
              0.4444444444444444,
              "#bd3786"
             ],
             [
              0.5555555555555556,
              "#d8576b"
             ],
             [
              0.6666666666666666,
              "#ed7953"
             ],
             [
              0.7777777777777778,
              "#fb9f3a"
             ],
             [
              0.8888888888888888,
              "#fdca26"
             ],
             [
              1,
              "#f0f921"
             ]
            ],
            "type": "histogram2d"
           }
          ],
          "histogram2dcontour": [
           {
            "colorbar": {
             "outlinewidth": 0,
             "ticks": ""
            },
            "colorscale": [
             [
              0,
              "#0d0887"
             ],
             [
              0.1111111111111111,
              "#46039f"
             ],
             [
              0.2222222222222222,
              "#7201a8"
             ],
             [
              0.3333333333333333,
              "#9c179e"
             ],
             [
              0.4444444444444444,
              "#bd3786"
             ],
             [
              0.5555555555555556,
              "#d8576b"
             ],
             [
              0.6666666666666666,
              "#ed7953"
             ],
             [
              0.7777777777777778,
              "#fb9f3a"
             ],
             [
              0.8888888888888888,
              "#fdca26"
             ],
             [
              1,
              "#f0f921"
             ]
            ],
            "type": "histogram2dcontour"
           }
          ],
          "mesh3d": [
           {
            "colorbar": {
             "outlinewidth": 0,
             "ticks": ""
            },
            "type": "mesh3d"
           }
          ],
          "parcoords": [
           {
            "line": {
             "colorbar": {
              "outlinewidth": 0,
              "ticks": ""
             }
            },
            "type": "parcoords"
           }
          ],
          "pie": [
           {
            "automargin": true,
            "type": "pie"
           }
          ],
          "scatter": [
           {
            "fillpattern": {
             "fillmode": "overlay",
             "size": 10,
             "solidity": 0.2
            },
            "type": "scatter"
           }
          ],
          "scatter3d": [
           {
            "line": {
             "colorbar": {
              "outlinewidth": 0,
              "ticks": ""
             }
            },
            "marker": {
             "colorbar": {
              "outlinewidth": 0,
              "ticks": ""
             }
            },
            "type": "scatter3d"
           }
          ],
          "scattercarpet": [
           {
            "marker": {
             "colorbar": {
              "outlinewidth": 0,
              "ticks": ""
             }
            },
            "type": "scattercarpet"
           }
          ],
          "scattergeo": [
           {
            "marker": {
             "colorbar": {
              "outlinewidth": 0,
              "ticks": ""
             }
            },
            "type": "scattergeo"
           }
          ],
          "scattergl": [
           {
            "marker": {
             "colorbar": {
              "outlinewidth": 0,
              "ticks": ""
             }
            },
            "type": "scattergl"
           }
          ],
          "scattermap": [
           {
            "marker": {
             "colorbar": {
              "outlinewidth": 0,
              "ticks": ""
             }
            },
            "type": "scattermap"
           }
          ],
          "scattermapbox": [
           {
            "marker": {
             "colorbar": {
              "outlinewidth": 0,
              "ticks": ""
             }
            },
            "type": "scattermapbox"
           }
          ],
          "scatterpolar": [
           {
            "marker": {
             "colorbar": {
              "outlinewidth": 0,
              "ticks": ""
             }
            },
            "type": "scatterpolar"
           }
          ],
          "scatterpolargl": [
           {
            "marker": {
             "colorbar": {
              "outlinewidth": 0,
              "ticks": ""
             }
            },
            "type": "scatterpolargl"
           }
          ],
          "scatterternary": [
           {
            "marker": {
             "colorbar": {
              "outlinewidth": 0,
              "ticks": ""
             }
            },
            "type": "scatterternary"
           }
          ],
          "surface": [
           {
            "colorbar": {
             "outlinewidth": 0,
             "ticks": ""
            },
            "colorscale": [
             [
              0,
              "#0d0887"
             ],
             [
              0.1111111111111111,
              "#46039f"
             ],
             [
              0.2222222222222222,
              "#7201a8"
             ],
             [
              0.3333333333333333,
              "#9c179e"
             ],
             [
              0.4444444444444444,
              "#bd3786"
             ],
             [
              0.5555555555555556,
              "#d8576b"
             ],
             [
              0.6666666666666666,
              "#ed7953"
             ],
             [
              0.7777777777777778,
              "#fb9f3a"
             ],
             [
              0.8888888888888888,
              "#fdca26"
             ],
             [
              1,
              "#f0f921"
             ]
            ],
            "type": "surface"
           }
          ],
          "table": [
           {
            "cells": {
             "fill": {
              "color": "#EBF0F8"
             },
             "line": {
              "color": "white"
             }
            },
            "header": {
             "fill": {
              "color": "#C8D4E3"
             },
             "line": {
              "color": "white"
             }
            },
            "type": "table"
           }
          ]
         },
         "layout": {
          "annotationdefaults": {
           "arrowcolor": "#2a3f5f",
           "arrowhead": 0,
           "arrowwidth": 1
          },
          "autotypenumbers": "strict",
          "coloraxis": {
           "colorbar": {
            "outlinewidth": 0,
            "ticks": ""
           }
          },
          "colorscale": {
           "diverging": [
            [
             0,
             "#8e0152"
            ],
            [
             0.1,
             "#c51b7d"
            ],
            [
             0.2,
             "#de77ae"
            ],
            [
             0.3,
             "#f1b6da"
            ],
            [
             0.4,
             "#fde0ef"
            ],
            [
             0.5,
             "#f7f7f7"
            ],
            [
             0.6,
             "#e6f5d0"
            ],
            [
             0.7,
             "#b8e186"
            ],
            [
             0.8,
             "#7fbc41"
            ],
            [
             0.9,
             "#4d9221"
            ],
            [
             1,
             "#276419"
            ]
           ],
           "sequential": [
            [
             0,
             "#0d0887"
            ],
            [
             0.1111111111111111,
             "#46039f"
            ],
            [
             0.2222222222222222,
             "#7201a8"
            ],
            [
             0.3333333333333333,
             "#9c179e"
            ],
            [
             0.4444444444444444,
             "#bd3786"
            ],
            [
             0.5555555555555556,
             "#d8576b"
            ],
            [
             0.6666666666666666,
             "#ed7953"
            ],
            [
             0.7777777777777778,
             "#fb9f3a"
            ],
            [
             0.8888888888888888,
             "#fdca26"
            ],
            [
             1,
             "#f0f921"
            ]
           ],
           "sequentialminus": [
            [
             0,
             "#0d0887"
            ],
            [
             0.1111111111111111,
             "#46039f"
            ],
            [
             0.2222222222222222,
             "#7201a8"
            ],
            [
             0.3333333333333333,
             "#9c179e"
            ],
            [
             0.4444444444444444,
             "#bd3786"
            ],
            [
             0.5555555555555556,
             "#d8576b"
            ],
            [
             0.6666666666666666,
             "#ed7953"
            ],
            [
             0.7777777777777778,
             "#fb9f3a"
            ],
            [
             0.8888888888888888,
             "#fdca26"
            ],
            [
             1,
             "#f0f921"
            ]
           ]
          },
          "colorway": [
           "#636efa",
           "#EF553B",
           "#00cc96",
           "#ab63fa",
           "#FFA15A",
           "#19d3f3",
           "#FF6692",
           "#B6E880",
           "#FF97FF",
           "#FECB52"
          ],
          "font": {
           "color": "#2a3f5f"
          },
          "geo": {
           "bgcolor": "white",
           "lakecolor": "white",
           "landcolor": "#E5ECF6",
           "showlakes": true,
           "showland": true,
           "subunitcolor": "white"
          },
          "hoverlabel": {
           "align": "left"
          },
          "hovermode": "closest",
          "mapbox": {
           "style": "light"
          },
          "paper_bgcolor": "white",
          "plot_bgcolor": "#E5ECF6",
          "polar": {
           "angularaxis": {
            "gridcolor": "white",
            "linecolor": "white",
            "ticks": ""
           },
           "bgcolor": "#E5ECF6",
           "radialaxis": {
            "gridcolor": "white",
            "linecolor": "white",
            "ticks": ""
           }
          },
          "scene": {
           "xaxis": {
            "backgroundcolor": "#E5ECF6",
            "gridcolor": "white",
            "gridwidth": 2,
            "linecolor": "white",
            "showbackground": true,
            "ticks": "",
            "zerolinecolor": "white"
           },
           "yaxis": {
            "backgroundcolor": "#E5ECF6",
            "gridcolor": "white",
            "gridwidth": 2,
            "linecolor": "white",
            "showbackground": true,
            "ticks": "",
            "zerolinecolor": "white"
           },
           "zaxis": {
            "backgroundcolor": "#E5ECF6",
            "gridcolor": "white",
            "gridwidth": 2,
            "linecolor": "white",
            "showbackground": true,
            "ticks": "",
            "zerolinecolor": "white"
           }
          },
          "shapedefaults": {
           "line": {
            "color": "#2a3f5f"
           }
          },
          "ternary": {
           "aaxis": {
            "gridcolor": "white",
            "linecolor": "white",
            "ticks": ""
           },
           "baxis": {
            "gridcolor": "white",
            "linecolor": "white",
            "ticks": ""
           },
           "bgcolor": "#E5ECF6",
           "caxis": {
            "gridcolor": "white",
            "linecolor": "white",
            "ticks": ""
           }
          },
          "title": {
           "x": 0.05
          },
          "xaxis": {
           "automargin": true,
           "gridcolor": "white",
           "linecolor": "white",
           "ticks": "",
           "title": {
            "standoff": 15
           },
           "zerolinecolor": "white",
           "zerolinewidth": 2
          },
          "yaxis": {
           "automargin": true,
           "gridcolor": "white",
           "linecolor": "white",
           "ticks": "",
           "title": {
            "standoff": 15
           },
           "zerolinecolor": "white",
           "zerolinewidth": 2
          }
         }
        }
       }
      }
     },
     "metadata": {},
     "output_type": "display_data"
    }
   ],
   "source": [
    "# Volume Peaks\n",
    "peaks,_ = signal.find_peaks(kdy)\n",
    "pkx = xr[peaks]\n",
    "pky = kdy[peaks]\n",
    "\n",
    "pk_marker_args=dict(size=10)\n",
    "fig = get_dist_plot(lulu.Close, lulu.Volume, xr, kdy)\n",
    "fig.add_trace(go.Scatter(name=\"Peaks\", x=pkx, y=pky, mode='markers', marker=pk_marker_args))"
   ]
  },
  {
   "cell_type": "code",
   "execution_count": 126,
   "metadata": {},
   "outputs": [
    {
     "data": {
      "application/vnd.plotly.v1+json": {
       "config": {
        "plotlyServerURL": "https://plot.ly"
       },
       "data": [
        {
         "histfunc": "sum",
         "histnorm": "probability density",
         "marker": {
          "color": "#B0C4DE"
         },
         "name": "Vol Profile",
         "nbinsx": 150,
         "type": "histogram",
         "x": {
          "bdata": "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",
          "dtype": "f8"
         },
         "y": {
          "bdata": "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",
          "dtype": "f8"
         }
        },
        {
         "marker": {
          "color": "#D2691E"
         },
         "mode": "lines",
         "name": "KDE",
         "type": "scatter",
         "x": {
          "bdata": "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",
          "dtype": "f8"
         },
         "y": {
          "bdata": "nLSs1cHtOj8ug05l02Q8Pw4qv3/D8zw/zdcrfdWjPD/sIXnEv5M7P7OuVvLf7Tk/BLCajmneNz8HLWtty4w1P0rEo3y4GTM/WfAqqBGhMD8RxUFtynosP2GzeS/ZFCg/UIN3tqRJJD+Hbd8sAk4hPwHA0G9JkB4/XdmllbyKHD842C4O12YcPzWO6BrFvx0/RkulwXn9Hz/NTJGWMjchPyFvrl2GNCI/G0gf7T63Ij85boGG6aIiP6onRdEYBSI/QTyk1NITIT8AH+hunyMgPzMN7QaXLh8/YJa3RHGZHz/eVBjygAohP1lP/PTtcSM/gfQZJ/T3Jj+FfRq0smYrP/e7nouvMzA/D+lMHFDJMj8t3kmgyEE1P2s6OihRdDc/ZMZruv1GOT97foZlha86P4QZSWzyrzs/QgU+IfJQPD9zPoUcKZw8P2xXdqKgmDw/5ygxa0JKPD/9N4Ek9LM7P1hX+MLc2jo/HktQOxvJOT/p00a/vI44P/5QIDK4QDc/a+4HhZv2NT+v0J52BMg0P7hssNDQyjM/gCdtYF0SMz9sMbl5kK8yP6TXWbQisTI/2lVHn7gjMz9SL6nPwBE0P6LW399ggzU/M1SQL9J+Nz9MUnJ+Xwk6P8pZbQPmKD0/RFQQDcByQD9ZLOsKdqVCP/kiusykNEU/CurmhGUqSD+78UQO85FLP3SLnhu+dU8/lIdXyybuUT/Lae+gBGJUP2llrQZLD1c/rOl6AILmWT+NgZTFMM9cP80VCVUCqV8/08stj3knYT8yiRQCA05iP+h7S9cxOGM/mHh3Y8faYz8H1PODUzBkPyuf5UE2OWQ/hk1gXb76Yz8OWCr73X1jP2EIzvjpzWI/a0Athp33YT8Ox1A/UghhP0lM2IAxDWA/qDyzrlskXj8pU4zTlEFcP7CPG8HvfVo/dQwFfObcWD86RxsACFpXPzvcGgBu61U/1/6Jx7qFVD+nP21LnSBTP080o0KfulE/BuksHzNbUD/GgixRACVOP9hxS6wm7ks/1NJcYklESj9+E+QDvVZJP9cGVPn8SUk/jh2HfcExSj+wzsrCcw1MP2EFPPo6x04/FX81teoaUT/ljbdTtxBTPxeg2s2oJVU/HdmrV8g7Vz+sViZpYjtZP8Sj/26uFls/NCYsaRPLXD/BMkqNd19eP7bwv5P3318/+1N7xySsYD+rriG1R2dhPz7WlRkhIGI/gE86uBrRYj8qCPDR3HFjP4OHMjT5+WM/ycSQ8+ZjZD/bXztHbK9kP3glsFW44mQ/YIe0zcYJZT8hMtYPHTRlP45/0YdlcWU/1/4V8r/NZT9TXSgKs05mP1Ro6SB/8WY/NvspjzKrZz8OrjypcmpoP8ZHwmqQGmk/TmOSlUunaT9z0/sXmQBqPwZzlFPMHWo/4sJ+rJj/aT/9STDQfrBpP8KUzEdnQ2k/NNqT4HLQaD+jd/LyZnBoPzVWkV99N2g/ICTFM6kwaD+JJVPKdFpoP3w0YJ1rpmg/P11rloj7aD8EJzqtcztpPxEKtvaaSWk/txYt6pUSaT/omI/e+5FoP+O3oXoQ1Wc/OZdtimX5Zj9i1Pd+oydmP7S+lRq6i2U/Pg6/+WlMZT9DHNavJ4RlPzF3iHbLPGY/CPDyDpZuZz+iXVrPLQJpPytXEnmo1Go/Nke4C528bD9rAV5rdI9uP3CYbtE9E3A/8o57FK2xcD8LeUEluhlxP79iJj3MSHE/9ApQ/bFCcT//p6QEHxBxPzQWGA1GvHA/QAK3vz5ScD9x8i21ErZvP2h3LVuUuW4/RHFrUaa2bT845w/0+7JsP/JQ6u7+tGs/CswxlNnEaj9LtLowPOtpP2v/eGNwLmk/9y47UEGPaD9AFfSGdAdoPyk1hZTtimc/kT04V2sLZz8zm0sCpH1mP+8C/CHe3WU/+0Rk8UQyZT/Lyp6NCIpkP8NP51KD+WM/S3q/waWUYz/WUiANcWljP2G9toonfGM/im9MeC7GYz9206l0szdkP7o11idcu2Q/Z+JlCto6ZT/iZpKLQaNlP88LxJ9d6GU/kQ1jla4GZj/MTdGVHwRmP+D+ssqm72U/Az+eqv7fZT8Crrk1jvFlPwYXo0WGQ2Y/kMI7h0P0Zj+HItdwKB1oPwzCFyhYzmk/DtC4SvUKbD/yCR6ZssZuP9XJm5nC8nA/hwYi7QKfcj9+JGy6P090P5xI7Sr06XU/bbrxG6pYdz/tKj8qEIt4P8V4womzeHk/kW92thAhej+XtqdjN4p6P6LtMUOqvno/NtqozUTLej8gxu3Lvr16P8S+QTT9o3o/1OQ9m/WLej9p7+uyqoN6PxBujLPImHo/sVprh57Xej+vHg7zgEl7P68vgQTy8ns/BZms8BnSfD8ozcGHKN59P0MnWzgQCH8/i8zBs1segD9BygfUJbSAPzHZl9D6PIE/9SLpOnezgT9IO0jkBBaCP+y+LjaYZoI/JlVYKXWpgj8wKzL9XOOCP3PVMX+5F4M/QPN+nFtHgz+PXbtiL3CDP2T7aajxjYM/mNN+tZqbgz8GLZRW9pSDP078YJ/ad4M/NW8NH51Egz+IDETFtv2CP8D8eG/XpoI/bg1wYNlDgj/yOx5UANiBPynSDAK9ZYE/7lt/hefugD919uMVLHWAP2PlFzeu9H8/S71AW5cAfz8SLhFPThF+Py+6PcSOKH0/zHyYmvpFfD/14E/IRGd7P3IFGj4wiXo/FieQsgqpeT/Y8D7qDcZ4P+xyfv4X4nc/DB3tjW4Bdz/u64ThoSl2P2CcWpT6X3U/PcJkYQWodD81mb/8wAJ0PxxE3lazbnM/rOO1A9jocj+0/FnSDm5yP3KtvuCH/HE/ed99Eq2UcT/C0uAfNTlxP7qevcVT7nA/vbEXf0a4cD/7GfsetZlwP9e2HiduknA/zR13rOiecD81vcKksrhwPzuIy1mj13A/de88Em3zcD8x21GKFQVxP2qkkYb2B3E/vaIcNh76cD+McEcdH9xwP/QA6yOCsHA/NJ5x+xN7cD8z8iUhOkBwP0hyumtqBHA/0bj1RKiXbz8/wC5yhDRvP1oc5Epo5m4/cHmvzTK0bj+L8edWEKVuPxAUjXV8wG4/OH92D5ANbz83e5+MmpFvP4Pp3d0uJ3A/E4WRVEGgcD96WlOtbi9xPzZt27JozXE/e+UeDeFwcj/gk1qhkQ9zP7k5UJ5Sn3M/OoofCQ8XdD9/ZUrXi290P5AgPm8PpHQ/Wp1m2vaydD+EQGpVLZ50P/bRhtlda3Q/2IaGY6wjdD8kMI852tJzP6su67/lhXM/PhiOzGRJcz9Tn+R/7ydzP2yKOBLmKHM/sBEWFbZPcz8RjgJPmptzP43YJ9K6B3Q/ffe9wJmLdD+LvTwZ0Bt1P5Dhu6krq3U/u9ajiC8sdj/JA+Pay5J2P+21quzw1XY/RHAwH4/wdj8U/KEutuF2PziLLZbSq3Y/AsiOpltTdj/FUwImdd11P0tMqgj7TnU//hQA0yysdD+K0A1G3PhzP4Bh0fXKOHM/Lk3rwN5vcj82vOacAqJxP4/eVrvK0nA/aNoMvSIFcD86y4n3n3ZuP0dQVTjO7mw/zrudIyR4az8dK2GnmxpqP+O5awl14Wg/N73cP3zaZz+71sQBABRnP9hPK0ATmmY/yjMHbvtzZj/qR0LtlKJmP5zrJGMKIGc/dNA7/bDgZz+Y2mVEc9RoPyNrmuAb6Gk/Ay3gNhIGaz/k0LJVlRZsP3BtAu78/2w/d/8cTManbT9/6n4JC/VtPz/puZNw1G0/W2hplNs8bT/DuaxhjDNsP7quLAMVzmo//ML3E/8waT+BxK8y3opnPweKVGKfDGY/f2CV+8DgZD8pY+dHeCNkP+kj1rSP3WM/0Cp8vBsDZD9oIz4LP3ZkP7yovR9RDWU/fRXM5AKbZT/YY/9ytfZlP7NZnUc5A2Y/NL9tV56yZT//G+QthwZlP8PF3PFZDWQ/ReLzjmndYj8xu7lmjY9hP5R1CUuDOmA//TVaSvzfXT9XsgeQQHdbP4/VaAgZR1k/z/1B7b1TVz8oavQxnpxVPyyntuDcHlQ/qrA84ZjWUj93KljmM79RPzXEW9oo01A/3pfs//wLUD/Ah7lsFMVOPzWLzh0Nn00/sJJKVvuXTD9sl8PNAaNLPwRG3wIdtEo/Sn51hs+/ST+CV0CDOLtIP8id7FjcnEc/ZQNIxfRdRj97A8ieyPtEP8VmNA+DeEM/INeB2ULbQT+TLjv5cy9AP7k6+aCDBz0/gvSxB+TROT/jdTW3luE2P9yEfo7sWTQ/A3jTAFhbMj/GMTdEPAAxP3oL6uZtWTA/QQZ/2xdrMD9idcvP8CoxPwM8W+mJgDI/sK8anAtIND/jbB78G1c2PzwWik4jgzg/d9ckTNinOj+wgvlK+Kw8Px5Zetg/ij4/hucJD4EkQD/b32OLhQFBPxWKXEZi70E/5WfpqnMEQz891kXCMFZEP3hs2ePB9EU/qbHlovPmRz9Pty/pVydKPyq9KVtYo0w/sLvN/bo8Tz++1NFm0+ZQP4hSC1NSF1I/xtR0zsUeUz/mauTD8/FTP5ljFp6rjVQ/+1pqHVf3VD/B0VgWpTtVPx0dDh90a1U/T+Zaw5SXVT99Kqi0VMxVP5HCxfnrDVY/aAVm1cZWVj9SaBgIP5hWP3DGL5W4vVY/kMbmPmyxVj8Ai4h+q2FWP1yjz5lExVU/aldDQ/HdVD92JUuAT7hTPxe7TMOVaVI/qqs1L8MLUT+A3GnKoHJPP5RyQAukEk0/WYKHlFcZSz8mvq4pGplJP7GMts8/lEg/1mSqVF/+Rz/mca0yIb9HP9EuPoxDtkc/g2h42ovARz9mf3yHL71HPwCB++fykkc/l2rSHBM0Rz84dQg/M6BGPz4ERYj540U/5khsJ5sWRT9tvD2f/FVEP70IBBIbwkM/U6AhazZ4Qz9bInN5741DP0LkTXCKDEQ/95ppUeHsRD+2OoI8GRVGP5KVREh3WUc/SlA9T1iBSD+t13t2OVBJPxCuuHtBkUk/LXTnLHsiST/vTAdolvxHP53tgWPaNEY/C22txrn4Qz+NpUJ6e4RBP+LxV9ivLz4/PqpAD2zXOT+39dYIrVY2P1ZVjLlf4zM/gtJ1gW6UMj+8/fOU3mYyP+Z8BgopQzM/EVVM6O0ANT882NauE2k3PwxNt/3cNzo/LlAjl9EgPT//4T3LetU/P2eMkZwzB0E/h6RH/jvKQT8H779i6iNCPyjZbn0uEUI/QhNnEWmaQT+v/ukj289AP+m4GNw4ij8/nj7W6wIaPT9o9s59Gm46P2sjGCy4nTc/QSDhKWG6ND8xwz/VgtMxPw==",
          "dtype": "f8"
         }
        },
        {
         "marker": {
          "color": "blue",
          "size": 8,
          "symbol": "circle"
         },
         "mode": "markers",
         "name": "Peaks",
         "type": "scatter",
         "x": {
          "bdata": "Zl6YbRyPYUAr379Ov1RjQPBf5y9iGmVARzJqy8eNaED+Jnz6D5dtQF9dDsyRtW5AeNc0Q6oxcEAMs5GcvKNxQKGi8TNunnJAAtmDBfC8c0CUoN0gY6Z1QI7u1QXV0HZAWJcDY7and0DrcmC8yBl5QIHswfLJ2HlA2UhGLX8QfUCfU2+tcZp+QJsraTEziX9A",
          "dtype": "f8"
         },
         "y": {
          "bdata": "Diq/f8PzPD8bSB/tPrciP3M+hRwpnDw/K5/lQTY5ZD8Gc5RTzB1qPxEKtvaaSWk/v2ImPcxIcT+RDWOVrgZmPzbaqM1Ey3o/mNN+tZqbgz9qpJGG9gdxP1qdZtr2snQ/RHAwH4/wdj9/6n4JC/VtP7NZnUc5A2Y/cMYvlbi9Vj8Qrrh7QZFJPwfvv2LqI0I/",
          "dtype": "f8"
         }
        }
       ],
       "layout": {
        "shapes": [
         {
          "line": {
           "color": "red",
           "width": 2
          },
          "type": "line",
          "x0": 140.47222022780915,
          "x1": 140.47222022780915,
          "xref": "x",
          "y0": 0.0004417755405909115,
          "y1": 0.00041089994708693746,
          "yref": "y"
         },
         {
          "line": {
           "color": "red",
           "width": 2
          },
          "type": "line",
          "x0": 154.64835298037482,
          "x1": 154.64835298037482,
          "xref": "x",
          "y0": 0.00014279025214009107,
          "y1": 0.00011894985958087606,
          "yref": "y"
         },
         {
          "line": {
           "color": "red",
           "width": 2
          },
          "type": "line",
          "x0": 168.8244857329405,
          "x1": 168.8244857329405,
          "xref": "x",
          "y0": 0.00043655399033057997,
          "y1": 0.00028512265428017633,
          "yref": "y"
         },
         {
          "line": {
           "color": "red",
           "width": 2
          },
          "type": "line",
          "x0": 196.43063898793682,
          "x1": 196.43063898793682,
          "xref": "x",
          "y0": 0.002468687030319124,
          "y1": 0.0007717595314320159,
          "yref": "y"
         },
         {
          "line": {
           "color": "red",
           "width": 2
          },
          "type": "line",
          "x0": 236.72070049522875,
          "x1": 236.72070049522875,
          "xref": "x",
          "y0": 0.003188036990321999,
          "y1": 0.0025999135814076804,
          "yref": "y"
         },
         {
          "line": {
           "color": "red",
           "width": 2
          },
          "type": "line",
          "x0": 245.67404749684917,
          "x1": 245.67404749684917,
          "xref": "x",
          "y0": 0.0030868555674612515,
          "y1": 0.002952890847300896,
          "yref": "y"
         },
         {
          "line": {
           "color": "red",
           "width": 2
          },
          "type": "line",
          "x0": 259.1040679992798,
          "x1": 259.1040679992798,
          "xref": "x",
          "y0": 0.004219816024850941,
          "y1": 0.0023696144135193315,
          "yref": "y"
         },
         {
          "line": {
           "color": "red",
           "width": 2
          },
          "type": "line",
          "x0": 282.2335477534659,
          "x1": 282.2335477534659,
          "xref": "x",
          "y0": 0.002688733085138125,
          "y1": 0.0026702856020576217,
          "yref": "y"
         },
         {
          "line": {
           "color": "red",
           "width": 2
          },
          "type": "line",
          "x0": 297.90190500630166,
          "x1": 297.90190500630166,
          "xref": "x",
          "y0": 0.006541508448711533,
          "y1": 0.006473223488452231,
          "yref": "y"
         },
         {
          "line": {
           "color": "red",
           "width": 2
          },
          "type": "line",
          "x0": 315.8085990095425,
          "x1": 315.8085990095425,
          "xref": "x",
          "y0": 0.009574135459709684,
          "y1": 0.00024947102694044404,
          "yref": "y"
         },
         {
          "line": {
           "color": "red",
           "width": 2
          },
          "type": "line",
          "x0": 346.399201265079,
          "x1": 346.399201265079,
          "xref": "x",
          "y0": 0.004157984724863709,
          "y1": 0.004045896801398738,
          "yref": "y"
         },
         {
          "line": {
           "color": "red",
           "width": 2
          },
          "type": "line",
          "x0": 365.05200751845484,
          "x1": 365.05200751845484,
          "xref": "x",
          "y0": 0.005053486127884222,
          "y1": 0.004676757378810087,
          "yref": "y"
         },
         {
          "line": {
           "color": "red",
           "width": 2
          },
          "type": "line",
          "x0": 378.48202802088554,
          "x1": 378.48202802088554,
          "xref": "x",
          "y0": 0.005600508756312964,
          "y1": 0.0037408179407504897,
          "yref": "y"
         },
         {
          "line": {
           "color": "red",
           "width": 2
          },
          "type": "line",
          "x0": 401.61150777507163,
          "x1": 401.61150777507163,
          "xref": "x",
          "y0": 0.0036568847244471954,
          "y1": 0.0027408514726858556,
          "yref": "y"
         },
         {
          "line": {
           "color": "red",
           "width": 2
          },
          "type": "line",
          "x0": 413.5493037772322,
          "x1": 413.5493037772322,
          "xref": "x",
          "y0": 0.002687084078313273,
          "y1": 0.002424984623477834,
          "yref": "y"
         },
         {
          "line": {
           "color": "red",
           "width": 2
          },
          "type": "line",
          "x0": 465.03104903654963,
          "x1": 465.03104903654963,
          "xref": "x",
          "y0": 0.0013880064550416925,
          "y1": 0.00027200645604268364,
          "yref": "y"
         },
         {
          "line": {
           "color": "red",
           "width": 2
          },
          "type": "line",
          "x0": 489.6527532910058,
          "x1": 489.6527532910058,
          "xref": "x",
          "y0": 0.0007802552931414648,
          "y1": 0.0005941644397014035,
          "yref": "y"
         },
         {
          "line": {
           "color": "red",
           "width": 2
          },
          "type": "line",
          "x0": 504.5749982937065,
          "x1": 504.5749982937065,
          "xref": "x",
          "y0": 0.0005535978757502399,
          "y1": 0.00028078970076702756,
          "yref": "y"
         }
        ],
        "template": {
         "data": {
          "bar": [
           {
            "error_x": {
             "color": "#2a3f5f"
            },
            "error_y": {
             "color": "#2a3f5f"
            },
            "marker": {
             "line": {
              "color": "#E5ECF6",
              "width": 0.5
             },
             "pattern": {
              "fillmode": "overlay",
              "size": 10,
              "solidity": 0.2
             }
            },
            "type": "bar"
           }
          ],
          "barpolar": [
           {
            "marker": {
             "line": {
              "color": "#E5ECF6",
              "width": 0.5
             },
             "pattern": {
              "fillmode": "overlay",
              "size": 10,
              "solidity": 0.2
             }
            },
            "type": "barpolar"
           }
          ],
          "carpet": [
           {
            "aaxis": {
             "endlinecolor": "#2a3f5f",
             "gridcolor": "white",
             "linecolor": "white",
             "minorgridcolor": "white",
             "startlinecolor": "#2a3f5f"
            },
            "baxis": {
             "endlinecolor": "#2a3f5f",
             "gridcolor": "white",
             "linecolor": "white",
             "minorgridcolor": "white",
             "startlinecolor": "#2a3f5f"
            },
            "type": "carpet"
           }
          ],
          "choropleth": [
           {
            "colorbar": {
             "outlinewidth": 0,
             "ticks": ""
            },
            "type": "choropleth"
           }
          ],
          "contour": [
           {
            "colorbar": {
             "outlinewidth": 0,
             "ticks": ""
            },
            "colorscale": [
             [
              0,
              "#0d0887"
             ],
             [
              0.1111111111111111,
              "#46039f"
             ],
             [
              0.2222222222222222,
              "#7201a8"
             ],
             [
              0.3333333333333333,
              "#9c179e"
             ],
             [
              0.4444444444444444,
              "#bd3786"
             ],
             [
              0.5555555555555556,
              "#d8576b"
             ],
             [
              0.6666666666666666,
              "#ed7953"
             ],
             [
              0.7777777777777778,
              "#fb9f3a"
             ],
             [
              0.8888888888888888,
              "#fdca26"
             ],
             [
              1,
              "#f0f921"
             ]
            ],
            "type": "contour"
           }
          ],
          "contourcarpet": [
           {
            "colorbar": {
             "outlinewidth": 0,
             "ticks": ""
            },
            "type": "contourcarpet"
           }
          ],
          "heatmap": [
           {
            "colorbar": {
             "outlinewidth": 0,
             "ticks": ""
            },
            "colorscale": [
             [
              0,
              "#0d0887"
             ],
             [
              0.1111111111111111,
              "#46039f"
             ],
             [
              0.2222222222222222,
              "#7201a8"
             ],
             [
              0.3333333333333333,
              "#9c179e"
             ],
             [
              0.4444444444444444,
              "#bd3786"
             ],
             [
              0.5555555555555556,
              "#d8576b"
             ],
             [
              0.6666666666666666,
              "#ed7953"
             ],
             [
              0.7777777777777778,
              "#fb9f3a"
             ],
             [
              0.8888888888888888,
              "#fdca26"
             ],
             [
              1,
              "#f0f921"
             ]
            ],
            "type": "heatmap"
           }
          ],
          "histogram": [
           {
            "marker": {
             "pattern": {
              "fillmode": "overlay",
              "size": 10,
              "solidity": 0.2
             }
            },
            "type": "histogram"
           }
          ],
          "histogram2d": [
           {
            "colorbar": {
             "outlinewidth": 0,
             "ticks": ""
            },
            "colorscale": [
             [
              0,
              "#0d0887"
             ],
             [
              0.1111111111111111,
              "#46039f"
             ],
             [
              0.2222222222222222,
              "#7201a8"
             ],
             [
              0.3333333333333333,
              "#9c179e"
             ],
             [
              0.4444444444444444,
              "#bd3786"
             ],
             [
              0.5555555555555556,
              "#d8576b"
             ],
             [
              0.6666666666666666,
              "#ed7953"
             ],
             [
              0.7777777777777778,
              "#fb9f3a"
             ],
             [
              0.8888888888888888,
              "#fdca26"
             ],
             [
              1,
              "#f0f921"
             ]
            ],
            "type": "histogram2d"
           }
          ],
          "histogram2dcontour": [
           {
            "colorbar": {
             "outlinewidth": 0,
             "ticks": ""
            },
            "colorscale": [
             [
              0,
              "#0d0887"
             ],
             [
              0.1111111111111111,
              "#46039f"
             ],
             [
              0.2222222222222222,
              "#7201a8"
             ],
             [
              0.3333333333333333,
              "#9c179e"
             ],
             [
              0.4444444444444444,
              "#bd3786"
             ],
             [
              0.5555555555555556,
              "#d8576b"
             ],
             [
              0.6666666666666666,
              "#ed7953"
             ],
             [
              0.7777777777777778,
              "#fb9f3a"
             ],
             [
              0.8888888888888888,
              "#fdca26"
             ],
             [
              1,
              "#f0f921"
             ]
            ],
            "type": "histogram2dcontour"
           }
          ],
          "mesh3d": [
           {
            "colorbar": {
             "outlinewidth": 0,
             "ticks": ""
            },
            "type": "mesh3d"
           }
          ],
          "parcoords": [
           {
            "line": {
             "colorbar": {
              "outlinewidth": 0,
              "ticks": ""
             }
            },
            "type": "parcoords"
           }
          ],
          "pie": [
           {
            "automargin": true,
            "type": "pie"
           }
          ],
          "scatter": [
           {
            "fillpattern": {
             "fillmode": "overlay",
             "size": 10,
             "solidity": 0.2
            },
            "type": "scatter"
           }
          ],
          "scatter3d": [
           {
            "line": {
             "colorbar": {
              "outlinewidth": 0,
              "ticks": ""
             }
            },
            "marker": {
             "colorbar": {
              "outlinewidth": 0,
              "ticks": ""
             }
            },
            "type": "scatter3d"
           }
          ],
          "scattercarpet": [
           {
            "marker": {
             "colorbar": {
              "outlinewidth": 0,
              "ticks": ""
             }
            },
            "type": "scattercarpet"
           }
          ],
          "scattergeo": [
           {
            "marker": {
             "colorbar": {
              "outlinewidth": 0,
              "ticks": ""
             }
            },
            "type": "scattergeo"
           }
          ],
          "scattergl": [
           {
            "marker": {
             "colorbar": {
              "outlinewidth": 0,
              "ticks": ""
             }
            },
            "type": "scattergl"
           }
          ],
          "scattermap": [
           {
            "marker": {
             "colorbar": {
              "outlinewidth": 0,
              "ticks": ""
             }
            },
            "type": "scattermap"
           }
          ],
          "scattermapbox": [
           {
            "marker": {
             "colorbar": {
              "outlinewidth": 0,
              "ticks": ""
             }
            },
            "type": "scattermapbox"
           }
          ],
          "scatterpolar": [
           {
            "marker": {
             "colorbar": {
              "outlinewidth": 0,
              "ticks": ""
             }
            },
            "type": "scatterpolar"
           }
          ],
          "scatterpolargl": [
           {
            "marker": {
             "colorbar": {
              "outlinewidth": 0,
              "ticks": ""
             }
            },
            "type": "scatterpolargl"
           }
          ],
          "scatterternary": [
           {
            "marker": {
             "colorbar": {
              "outlinewidth": 0,
              "ticks": ""
             }
            },
            "type": "scatterternary"
           }
          ],
          "surface": [
           {
            "colorbar": {
             "outlinewidth": 0,
             "ticks": ""
            },
            "colorscale": [
             [
              0,
              "#0d0887"
             ],
             [
              0.1111111111111111,
              "#46039f"
             ],
             [
              0.2222222222222222,
              "#7201a8"
             ],
             [
              0.3333333333333333,
              "#9c179e"
             ],
             [
              0.4444444444444444,
              "#bd3786"
             ],
             [
              0.5555555555555556,
              "#d8576b"
             ],
             [
              0.6666666666666666,
              "#ed7953"
             ],
             [
              0.7777777777777778,
              "#fb9f3a"
             ],
             [
              0.8888888888888888,
              "#fdca26"
             ],
             [
              1,
              "#f0f921"
             ]
            ],
            "type": "surface"
           }
          ],
          "table": [
           {
            "cells": {
             "fill": {
              "color": "#EBF0F8"
             },
             "line": {
              "color": "white"
             }
            },
            "header": {
             "fill": {
              "color": "#C8D4E3"
             },
             "line": {
              "color": "white"
             }
            },
            "type": "table"
           }
          ]
         },
         "layout": {
          "annotationdefaults": {
           "arrowcolor": "#2a3f5f",
           "arrowhead": 0,
           "arrowwidth": 1
          },
          "autotypenumbers": "strict",
          "coloraxis": {
           "colorbar": {
            "outlinewidth": 0,
            "ticks": ""
           }
          },
          "colorscale": {
           "diverging": [
            [
             0,
             "#8e0152"
            ],
            [
             0.1,
             "#c51b7d"
            ],
            [
             0.2,
             "#de77ae"
            ],
            [
             0.3,
             "#f1b6da"
            ],
            [
             0.4,
             "#fde0ef"
            ],
            [
             0.5,
             "#f7f7f7"
            ],
            [
             0.6,
             "#e6f5d0"
            ],
            [
             0.7,
             "#b8e186"
            ],
            [
             0.8,
             "#7fbc41"
            ],
            [
             0.9,
             "#4d9221"
            ],
            [
             1,
             "#276419"
            ]
           ],
           "sequential": [
            [
             0,
             "#0d0887"
            ],
            [
             0.1111111111111111,
             "#46039f"
            ],
            [
             0.2222222222222222,
             "#7201a8"
            ],
            [
             0.3333333333333333,
             "#9c179e"
            ],
            [
             0.4444444444444444,
             "#bd3786"
            ],
            [
             0.5555555555555556,
             "#d8576b"
            ],
            [
             0.6666666666666666,
             "#ed7953"
            ],
            [
             0.7777777777777778,
             "#fb9f3a"
            ],
            [
             0.8888888888888888,
             "#fdca26"
            ],
            [
             1,
             "#f0f921"
            ]
           ],
           "sequentialminus": [
            [
             0,
             "#0d0887"
            ],
            [
             0.1111111111111111,
             "#46039f"
            ],
            [
             0.2222222222222222,
             "#7201a8"
            ],
            [
             0.3333333333333333,
             "#9c179e"
            ],
            [
             0.4444444444444444,
             "#bd3786"
            ],
            [
             0.5555555555555556,
             "#d8576b"
            ],
            [
             0.6666666666666666,
             "#ed7953"
            ],
            [
             0.7777777777777778,
             "#fb9f3a"
            ],
            [
             0.8888888888888888,
             "#fdca26"
            ],
            [
             1,
             "#f0f921"
            ]
           ]
          },
          "colorway": [
           "#636efa",
           "#EF553B",
           "#00cc96",
           "#ab63fa",
           "#FFA15A",
           "#19d3f3",
           "#FF6692",
           "#B6E880",
           "#FF97FF",
           "#FECB52"
          ],
          "font": {
           "color": "#2a3f5f"
          },
          "geo": {
           "bgcolor": "white",
           "lakecolor": "white",
           "landcolor": "#E5ECF6",
           "showlakes": true,
           "showland": true,
           "subunitcolor": "white"
          },
          "hoverlabel": {
           "align": "left"
          },
          "hovermode": "closest",
          "mapbox": {
           "style": "light"
          },
          "paper_bgcolor": "white",
          "plot_bgcolor": "#E5ECF6",
          "polar": {
           "angularaxis": {
            "gridcolor": "white",
            "linecolor": "white",
            "ticks": ""
           },
           "bgcolor": "#E5ECF6",
           "radialaxis": {
            "gridcolor": "white",
            "linecolor": "white",
            "ticks": ""
           }
          },
          "scene": {
           "xaxis": {
            "backgroundcolor": "#E5ECF6",
            "gridcolor": "white",
            "gridwidth": 2,
            "linecolor": "white",
            "showbackground": true,
            "ticks": "",
            "zerolinecolor": "white"
           },
           "yaxis": {
            "backgroundcolor": "#E5ECF6",
            "gridcolor": "white",
            "gridwidth": 2,
            "linecolor": "white",
            "showbackground": true,
            "ticks": "",
            "zerolinecolor": "white"
           },
           "zaxis": {
            "backgroundcolor": "#E5ECF6",
            "gridcolor": "white",
            "gridwidth": 2,
            "linecolor": "white",
            "showbackground": true,
            "ticks": "",
            "zerolinecolor": "white"
           }
          },
          "shapedefaults": {
           "line": {
            "color": "#2a3f5f"
           }
          },
          "ternary": {
           "aaxis": {
            "gridcolor": "white",
            "linecolor": "white",
            "ticks": ""
           },
           "baxis": {
            "gridcolor": "white",
            "linecolor": "white",
            "ticks": ""
           },
           "bgcolor": "#E5ECF6",
           "caxis": {
            "gridcolor": "white",
            "linecolor": "white",
            "ticks": ""
           }
          },
          "title": {
           "x": 0.05
          },
          "xaxis": {
           "automargin": true,
           "gridcolor": "white",
           "linecolor": "white",
           "ticks": "",
           "title": {
            "standoff": 15
           },
           "zerolinecolor": "white",
           "zerolinewidth": 2
          },
          "yaxis": {
           "automargin": true,
           "gridcolor": "white",
           "linecolor": "white",
           "ticks": "",
           "title": {
            "standoff": 15
           },
           "zerolinecolor": "white",
           "zerolinewidth": 2
          }
         }
        }
       }
      }
     },
     "metadata": {},
     "output_type": "display_data"
    }
   ],
   "source": [
    "# Find peaks, peak_props\n",
    "peaks, peak_props = signal.find_peaks(kdy, prominence=0.00001)\n",
    "\n",
    "pkx = xr[peaks]\n",
    "pky = kdy[peaks]\n",
    "\n",
    "# Fig \n",
    "fig = get_dist_plot(lulu.Close, lulu.Volume, xr, kdy)\n",
    "\n",
    "# Add peaks markers\n",
    "fig.add_trace(go.Scatter(\n",
    "    x=pkx, y=pky,\n",
    "    mode=\"markers\",\n",
    "    name=\"Peaks\",\n",
    "    marker=dict(color=\"blue\", size=8, symbol=\"circle\")\n",
    "))\n",
    "\n",
    "# Draw vertical lines from the peaks downwards (prominence)\n",
    "for x, y0, prom in zip(pkx, pky, peak_props[\"prominences\"]):\n",
    "    fig.add_shape(\n",
    "        type=\"line\",\n",
    "        xref=\"x\", yref=\"y\",\n",
    "        x0=x, x1=x,\n",
    "        y0=y0, y1=y0 - prom,\n",
    "        line=dict(color=\"red\", width=2)\n",
    "    )\n",
    "\n",
    "fig.show()"
   ]
  },
  {
   "cell_type": "code",
   "execution_count": 127,
   "id": "0f6266bb",
   "metadata": {},
   "outputs": [
    {
     "data": {
      "application/vnd.plotly.v1+json": {
       "config": {
        "plotlyServerURL": "https://plot.ly"
       },
       "data": [
        {
         "histfunc": "sum",
         "histnorm": "probability density",
         "marker": {
          "color": "#B0C4DE"
         },
         "name": "Vol Profile",
         "nbinsx": 150,
         "type": "histogram",
         "x": {
          "bdata": "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",
          "dtype": "f8"
         },
         "y": {
          "bdata": "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",
          "dtype": "f8"
         }
        },
        {
         "marker": {
          "color": "#D2691E"
         },
         "mode": "lines",
         "name": "KDE",
         "type": "scatter",
         "x": {
          "bdata": "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",
          "dtype": "f8"
         },
         "y": {
          "bdata": "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",
          "dtype": "f8"
         }
        },
        {
         "marker": {
          "size": 10
         },
         "mode": "markers",
         "name": "Peaks",
         "type": "scatter",
         "x": {
          "bdata": "Zl6YbRyPYUAr379Ov1RjQPBf5y9iGmVARzJqy8eNaED+Jnz6D5dtQF9dDsyRtW5AeNc0Q6oxcEAMs5GcvKNxQKGi8TNunnJAAtmDBfC8c0CUoN0gY6Z1QI7u1QXV0HZAWJcDY7and0DrcmC8yBl5QIHswfLJ2HlA2UhGLX8QfUCfU2+tcZp+QJsraTEziX9A",
          "dtype": "f8"
         },
         "y": {
          "bdata": "Diq/f8PzPD8bSB/tPrciP3M+hRwpnDw/K5/lQTY5ZD8Gc5RTzB1qPxEKtvaaSWk/v2ImPcxIcT+RDWOVrgZmPzbaqM1Ey3o/mNN+tZqbgz9qpJGG9gdxP1qdZtr2snQ/RHAwH4/wdj9/6n4JC/VtP7NZnUc5A2Y/cMYvlbi9Vj8Qrrh7QZFJPwfvv2LqI0I/",
          "dtype": "f8"
         }
        }
       ],
       "layout": {
        "shapes": [
         {
          "line": {
           "color": "red",
           "width": 2
          },
          "type": "line",
          "x0": 139.4941923524609,
          "x1": 141.70392988307322,
          "xref": "x",
          "y0": 0.0004263377438389245,
          "y1": 0.0004263377438389245,
          "yref": "y"
         },
         {
          "line": {
           "color": "red",
           "width": 2
          },
          "type": "line",
          "x0": 153.0898202067358,
          "x1": 156.7908593572115,
          "xref": "x",
          "y0": 0.00013087005586048356,
          "y1": 0.00013087005586048356,
          "yref": "y"
         },
         {
          "line": {
           "color": "red",
           "width": 2
          },
          "type": "line",
          "x0": 165.12075080199514,
          "x1": 173.75166069158283,
          "xref": "x",
          "y0": 0.0003608383223053782,
          "y1": 0.0003608383223053782,
          "yref": "y"
         },
         {
          "line": {
           "color": "red",
           "width": 2
          },
          "type": "line",
          "x0": 190.52396476174385,
          "x1": 202.99461150454152,
          "xref": "x",
          "y0": 0.00162022328087557,
          "y1": 0.00162022328087557,
          "yref": "y"
         },
         {
          "line": {
           "color": "red",
           "width": 2
          },
          "type": "line",
          "x0": 232.84069724830994,
          "x1": 247.80285035580908,
          "xref": "x",
          "y0": 0.0028939752858648396,
          "y1": 0.0028939752858648396,
          "yref": "y"
         },
         {
          "line": {
           "color": "red",
           "width": 2
          },
          "type": "line",
          "x0": 243.4255039323078,
          "x1": 246.70005980808588,
          "xref": "x",
          "y0": 0.0030198732073810734,
          "y1": 0.0030198732073810734,
          "yref": "y"
         },
         {
          "line": {
           "color": "red",
           "width": 2
          },
          "type": "line",
          "x0": 254.45845285710408,
          "x1": 266.1343075899929,
          "xref": "x",
          "y0": 0.0032947152191851363,
          "y1": 0.0032947152191851363,
          "yref": "y"
         },
         {
          "line": {
           "color": "red",
           "width": 2
          },
          "type": "line",
          "x0": 281.47192832473274,
          "x1": 283.30217941948786,
          "xref": "x",
          "y0": 0.0026795093435978733,
          "y1": 0.0026795093435978733,
          "yref": "y"
         },
         {
          "line": {
           "color": "red",
           "width": 2
          },
          "type": "line",
          "x0": 296.5101065207897,
          "x1": 298.97273100536563,
          "xref": "x",
          "y0": 0.006507365968581882,
          "y1": 0.006507365968581882,
          "yref": "y"
         },
         {
          "line": {
           "color": "red",
           "width": 2
          },
          "type": "line",
          "x0": 291.54294668454,
          "x1": 333.9458857833582,
          "xref": "x",
          "y0": 0.004911803243325064,
          "y1": 0.004911803243325064,
          "yref": "y"
         },
         {
          "line": {
           "color": "red",
           "width": 2
          },
          "type": "line",
          "x0": 343.4992148719562,
          "x1": 347.7284199484774,
          "xref": "x",
          "y0": 0.004101940763131223,
          "y1": 0.004101940763131223,
          "yref": "y"
         },
         {
          "line": {
           "color": "red",
           "width": 2
          },
          "type": "line",
          "x0": 362.1072444537617,
          "x1": 367.33329567666715,
          "xref": "x",
          "y0": 0.004865121753347154,
          "y1": 0.004865121753347154,
          "yref": "y"
         },
         {
          "line": {
           "color": "red",
           "width": 2
          },
          "type": "line",
          "x0": 360.96987915168984,
          "x1": 384.0461388022637,
          "xref": "x",
          "y0": 0.004670663348531727,
          "y1": 0.004670663348531727,
          "yref": "y"
         },
         {
          "line": {
           "color": "red",
           "width": 2
          },
          "type": "line",
          "x0": 397.56209308585613,
          "x1": 404.3415460852198,
          "xref": "x",
          "y0": 0.0031988680985665253,
          "y1": 0.0031988680985665253,
          "yref": "y"
         },
         {
          "line": {
           "color": "red",
           "width": 2
          },
          "type": "line",
          "x0": 410.62373837146646,
          "x1": 414.55555317690533,
          "xref": "x",
          "y0": 0.0025560343508955535,
          "y1": 0.0025560343508955535,
          "yref": "y"
         },
         {
          "line": {
           "color": "red",
           "width": 2
          },
          "type": "line",
          "x0": 452.7779245889769,
          "x1": 471.78792834451787,
          "xref": "x",
          "y0": 0.0008300064555421881,
          "y1": 0.0008300064555421881,
          "yref": "y"
         },
         {
          "line": {
           "color": "red",
           "width": 2
          },
          "type": "line",
          "x0": 486.22919915589506,
          "x1": 491.0547509054456,
          "xref": "x",
          "y0": 0.0006872098664214342,
          "y1": 0.0006872098664214342,
          "yref": "y"
         },
         {
          "line": {
           "color": "red",
           "width": 2
          },
          "type": "line",
          "x0": 500.40806576309,
          "x1": 508.05757576289284,
          "xref": "x",
          "y0": 0.0004171937882586337,
          "y1": 0.0004171937882586337,
          "yref": "y"
         }
        ],
        "template": {
         "data": {
          "bar": [
           {
            "error_x": {
             "color": "#2a3f5f"
            },
            "error_y": {
             "color": "#2a3f5f"
            },
            "marker": {
             "line": {
              "color": "#E5ECF6",
              "width": 0.5
             },
             "pattern": {
              "fillmode": "overlay",
              "size": 10,
              "solidity": 0.2
             }
            },
            "type": "bar"
           }
          ],
          "barpolar": [
           {
            "marker": {
             "line": {
              "color": "#E5ECF6",
              "width": 0.5
             },
             "pattern": {
              "fillmode": "overlay",
              "size": 10,
              "solidity": 0.2
             }
            },
            "type": "barpolar"
           }
          ],
          "carpet": [
           {
            "aaxis": {
             "endlinecolor": "#2a3f5f",
             "gridcolor": "white",
             "linecolor": "white",
             "minorgridcolor": "white",
             "startlinecolor": "#2a3f5f"
            },
            "baxis": {
             "endlinecolor": "#2a3f5f",
             "gridcolor": "white",
             "linecolor": "white",
             "minorgridcolor": "white",
             "startlinecolor": "#2a3f5f"
            },
            "type": "carpet"
           }
          ],
          "choropleth": [
           {
            "colorbar": {
             "outlinewidth": 0,
             "ticks": ""
            },
            "type": "choropleth"
           }
          ],
          "contour": [
           {
            "colorbar": {
             "outlinewidth": 0,
             "ticks": ""
            },
            "colorscale": [
             [
              0,
              "#0d0887"
             ],
             [
              0.1111111111111111,
              "#46039f"
             ],
             [
              0.2222222222222222,
              "#7201a8"
             ],
             [
              0.3333333333333333,
              "#9c179e"
             ],
             [
              0.4444444444444444,
              "#bd3786"
             ],
             [
              0.5555555555555556,
              "#d8576b"
             ],
             [
              0.6666666666666666,
              "#ed7953"
             ],
             [
              0.7777777777777778,
              "#fb9f3a"
             ],
             [
              0.8888888888888888,
              "#fdca26"
             ],
             [
              1,
              "#f0f921"
             ]
            ],
            "type": "contour"
           }
          ],
          "contourcarpet": [
           {
            "colorbar": {
             "outlinewidth": 0,
             "ticks": ""
            },
            "type": "contourcarpet"
           }
          ],
          "heatmap": [
           {
            "colorbar": {
             "outlinewidth": 0,
             "ticks": ""
            },
            "colorscale": [
             [
              0,
              "#0d0887"
             ],
             [
              0.1111111111111111,
              "#46039f"
             ],
             [
              0.2222222222222222,
              "#7201a8"
             ],
             [
              0.3333333333333333,
              "#9c179e"
             ],
             [
              0.4444444444444444,
              "#bd3786"
             ],
             [
              0.5555555555555556,
              "#d8576b"
             ],
             [
              0.6666666666666666,
              "#ed7953"
             ],
             [
              0.7777777777777778,
              "#fb9f3a"
             ],
             [
              0.8888888888888888,
              "#fdca26"
             ],
             [
              1,
              "#f0f921"
             ]
            ],
            "type": "heatmap"
           }
          ],
          "histogram": [
           {
            "marker": {
             "pattern": {
              "fillmode": "overlay",
              "size": 10,
              "solidity": 0.2
             }
            },
            "type": "histogram"
           }
          ],
          "histogram2d": [
           {
            "colorbar": {
             "outlinewidth": 0,
             "ticks": ""
            },
            "colorscale": [
             [
              0,
              "#0d0887"
             ],
             [
              0.1111111111111111,
              "#46039f"
             ],
             [
              0.2222222222222222,
              "#7201a8"
             ],
             [
              0.3333333333333333,
              "#9c179e"
             ],
             [
              0.4444444444444444,
              "#bd3786"
             ],
             [
              0.5555555555555556,
              "#d8576b"
             ],
             [
              0.6666666666666666,
              "#ed7953"
             ],
             [
              0.7777777777777778,
              "#fb9f3a"
             ],
             [
              0.8888888888888888,
              "#fdca26"
             ],
             [
              1,
              "#f0f921"
             ]
            ],
            "type": "histogram2d"
           }
          ],
          "histogram2dcontour": [
           {
            "colorbar": {
             "outlinewidth": 0,
             "ticks": ""
            },
            "colorscale": [
             [
              0,
              "#0d0887"
             ],
             [
              0.1111111111111111,
              "#46039f"
             ],
             [
              0.2222222222222222,
              "#7201a8"
             ],
             [
              0.3333333333333333,
              "#9c179e"
             ],
             [
              0.4444444444444444,
              "#bd3786"
             ],
             [
              0.5555555555555556,
              "#d8576b"
             ],
             [
              0.6666666666666666,
              "#ed7953"
             ],
             [
              0.7777777777777778,
              "#fb9f3a"
             ],
             [
              0.8888888888888888,
              "#fdca26"
             ],
             [
              1,
              "#f0f921"
             ]
            ],
            "type": "histogram2dcontour"
           }
          ],
          "mesh3d": [
           {
            "colorbar": {
             "outlinewidth": 0,
             "ticks": ""
            },
            "type": "mesh3d"
           }
          ],
          "parcoords": [
           {
            "line": {
             "colorbar": {
              "outlinewidth": 0,
              "ticks": ""
             }
            },
            "type": "parcoords"
           }
          ],
          "pie": [
           {
            "automargin": true,
            "type": "pie"
           }
          ],
          "scatter": [
           {
            "fillpattern": {
             "fillmode": "overlay",
             "size": 10,
             "solidity": 0.2
            },
            "type": "scatter"
           }
          ],
          "scatter3d": [
           {
            "line": {
             "colorbar": {
              "outlinewidth": 0,
              "ticks": ""
             }
            },
            "marker": {
             "colorbar": {
              "outlinewidth": 0,
              "ticks": ""
             }
            },
            "type": "scatter3d"
           }
          ],
          "scattercarpet": [
           {
            "marker": {
             "colorbar": {
              "outlinewidth": 0,
              "ticks": ""
             }
            },
            "type": "scattercarpet"
           }
          ],
          "scattergeo": [
           {
            "marker": {
             "colorbar": {
              "outlinewidth": 0,
              "ticks": ""
             }
            },
            "type": "scattergeo"
           }
          ],
          "scattergl": [
           {
            "marker": {
             "colorbar": {
              "outlinewidth": 0,
              "ticks": ""
             }
            },
            "type": "scattergl"
           }
          ],
          "scattermap": [
           {
            "marker": {
             "colorbar": {
              "outlinewidth": 0,
              "ticks": ""
             }
            },
            "type": "scattermap"
           }
          ],
          "scattermapbox": [
           {
            "marker": {
             "colorbar": {
              "outlinewidth": 0,
              "ticks": ""
             }
            },
            "type": "scattermapbox"
           }
          ],
          "scatterpolar": [
           {
            "marker": {
             "colorbar": {
              "outlinewidth": 0,
              "ticks": ""
             }
            },
            "type": "scatterpolar"
           }
          ],
          "scatterpolargl": [
           {
            "marker": {
             "colorbar": {
              "outlinewidth": 0,
              "ticks": ""
             }
            },
            "type": "scatterpolargl"
           }
          ],
          "scatterternary": [
           {
            "marker": {
             "colorbar": {
              "outlinewidth": 0,
              "ticks": ""
             }
            },
            "type": "scatterternary"
           }
          ],
          "surface": [
           {
            "colorbar": {
             "outlinewidth": 0,
             "ticks": ""
            },
            "colorscale": [
             [
              0,
              "#0d0887"
             ],
             [
              0.1111111111111111,
              "#46039f"
             ],
             [
              0.2222222222222222,
              "#7201a8"
             ],
             [
              0.3333333333333333,
              "#9c179e"
             ],
             [
              0.4444444444444444,
              "#bd3786"
             ],
             [
              0.5555555555555556,
              "#d8576b"
             ],
             [
              0.6666666666666666,
              "#ed7953"
             ],
             [
              0.7777777777777778,
              "#fb9f3a"
             ],
             [
              0.8888888888888888,
              "#fdca26"
             ],
             [
              1,
              "#f0f921"
             ]
            ],
            "type": "surface"
           }
          ],
          "table": [
           {
            "cells": {
             "fill": {
              "color": "#EBF0F8"
             },
             "line": {
              "color": "white"
             }
            },
            "header": {
             "fill": {
              "color": "#C8D4E3"
             },
             "line": {
              "color": "white"
             }
            },
            "type": "table"
           }
          ]
         },
         "layout": {
          "annotationdefaults": {
           "arrowcolor": "#2a3f5f",
           "arrowhead": 0,
           "arrowwidth": 1
          },
          "autotypenumbers": "strict",
          "coloraxis": {
           "colorbar": {
            "outlinewidth": 0,
            "ticks": ""
           }
          },
          "colorscale": {
           "diverging": [
            [
             0,
             "#8e0152"
            ],
            [
             0.1,
             "#c51b7d"
            ],
            [
             0.2,
             "#de77ae"
            ],
            [
             0.3,
             "#f1b6da"
            ],
            [
             0.4,
             "#fde0ef"
            ],
            [
             0.5,
             "#f7f7f7"
            ],
            [
             0.6,
             "#e6f5d0"
            ],
            [
             0.7,
             "#b8e186"
            ],
            [
             0.8,
             "#7fbc41"
            ],
            [
             0.9,
             "#4d9221"
            ],
            [
             1,
             "#276419"
            ]
           ],
           "sequential": [
            [
             0,
             "#0d0887"
            ],
            [
             0.1111111111111111,
             "#46039f"
            ],
            [
             0.2222222222222222,
             "#7201a8"
            ],
            [
             0.3333333333333333,
             "#9c179e"
            ],
            [
             0.4444444444444444,
             "#bd3786"
            ],
            [
             0.5555555555555556,
             "#d8576b"
            ],
            [
             0.6666666666666666,
             "#ed7953"
            ],
            [
             0.7777777777777778,
             "#fb9f3a"
            ],
            [
             0.8888888888888888,
             "#fdca26"
            ],
            [
             1,
             "#f0f921"
            ]
           ],
           "sequentialminus": [
            [
             0,
             "#0d0887"
            ],
            [
             0.1111111111111111,
             "#46039f"
            ],
            [
             0.2222222222222222,
             "#7201a8"
            ],
            [
             0.3333333333333333,
             "#9c179e"
            ],
            [
             0.4444444444444444,
             "#bd3786"
            ],
            [
             0.5555555555555556,
             "#d8576b"
            ],
            [
             0.6666666666666666,
             "#ed7953"
            ],
            [
             0.7777777777777778,
             "#fb9f3a"
            ],
            [
             0.8888888888888888,
             "#fdca26"
            ],
            [
             1,
             "#f0f921"
            ]
           ]
          },
          "colorway": [
           "#636efa",
           "#EF553B",
           "#00cc96",
           "#ab63fa",
           "#FFA15A",
           "#19d3f3",
           "#FF6692",
           "#B6E880",
           "#FF97FF",
           "#FECB52"
          ],
          "font": {
           "color": "#2a3f5f"
          },
          "geo": {
           "bgcolor": "white",
           "lakecolor": "white",
           "landcolor": "#E5ECF6",
           "showlakes": true,
           "showland": true,
           "subunitcolor": "white"
          },
          "hoverlabel": {
           "align": "left"
          },
          "hovermode": "closest",
          "mapbox": {
           "style": "light"
          },
          "paper_bgcolor": "white",
          "plot_bgcolor": "#E5ECF6",
          "polar": {
           "angularaxis": {
            "gridcolor": "white",
            "linecolor": "white",
            "ticks": ""
           },
           "bgcolor": "#E5ECF6",
           "radialaxis": {
            "gridcolor": "white",
            "linecolor": "white",
            "ticks": ""
           }
          },
          "scene": {
           "xaxis": {
            "backgroundcolor": "#E5ECF6",
            "gridcolor": "white",
            "gridwidth": 2,
            "linecolor": "white",
            "showbackground": true,
            "ticks": "",
            "zerolinecolor": "white"
           },
           "yaxis": {
            "backgroundcolor": "#E5ECF6",
            "gridcolor": "white",
            "gridwidth": 2,
            "linecolor": "white",
            "showbackground": true,
            "ticks": "",
            "zerolinecolor": "white"
           },
           "zaxis": {
            "backgroundcolor": "#E5ECF6",
            "gridcolor": "white",
            "gridwidth": 2,
            "linecolor": "white",
            "showbackground": true,
            "ticks": "",
            "zerolinecolor": "white"
           }
          },
          "shapedefaults": {
           "line": {
            "color": "#2a3f5f"
           }
          },
          "ternary": {
           "aaxis": {
            "gridcolor": "white",
            "linecolor": "white",
            "ticks": ""
           },
           "baxis": {
            "gridcolor": "white",
            "linecolor": "white",
            "ticks": ""
           },
           "bgcolor": "#E5ECF6",
           "caxis": {
            "gridcolor": "white",
            "linecolor": "white",
            "ticks": ""
           }
          },
          "title": {
           "x": 0.05
          },
          "xaxis": {
           "automargin": true,
           "gridcolor": "white",
           "linecolor": "white",
           "ticks": "",
           "title": {
            "standoff": 15
           },
           "zerolinecolor": "white",
           "zerolinewidth": 2
          },
          "yaxis": {
           "automargin": true,
           "gridcolor": "white",
           "linecolor": "white",
           "ticks": "",
           "title": {
            "standoff": 15
           },
           "zerolinecolor": "white",
           "zerolinewidth": 2
          }
         }
        }
       }
      }
     },
     "metadata": {},
     "output_type": "display_data"
    }
   ],
   "source": [
    "# Peak Width\n",
    "width_range=1\n",
    "peaks, peak_props = signal.find_peaks(kdy, prominence=0.00001, width=width_range)\n",
    "\n",
    "left_ips = peak_props['left_ips']\n",
    "right_ips = peak_props['right_ips']\n",
    "width_x0 = xr.min() + (left_ips * ticks_per_sample)\n",
    "width_x1 = xr.min() + (right_ips * ticks_per_sample)\n",
    "width_y = peak_props['width_heights']\n",
    "\n",
    "fig = get_dist_plot(lulu.Close, lulu.Volume, xr, kdy)\n",
    "fig.add_trace(go.Scatter(name='Peaks', x=pkx, y=pky, mode='markers', marker=pk_marker_args))\n",
    "\n",
    "for x0, x1, y in zip(width_x0, width_x1, width_y):\n",
    "    fig.add_shape(type='line',\n",
    "        xref='x', yref='y',\n",
    "        x0=x0, y0=y, x1=x1, y1=y,\n",
    "        line=dict(\n",
    "            color='red',\n",
    "            width=2,\n",
    "        )\n",
    "    )\n",
    "fig.show()"
   ]
  },
  {
   "cell_type": "code",
   "execution_count": null,
   "metadata": {},
   "outputs": [],
   "source": []
  },
  {
   "cell_type": "code",
   "execution_count": null,
   "metadata": {},
   "outputs": [],
   "source": []
  },
  {
   "cell_type": "code",
   "execution_count": null,
   "metadata": {},
   "outputs": [],
   "source": []
  },
  {
   "cell_type": "code",
   "execution_count": null,
   "metadata": {},
   "outputs": [],
   "source": []
  },
  {
   "cell_type": "code",
   "execution_count": 128,
   "id": "0449dd46",
   "metadata": {},
   "outputs": [],
   "source": [
    "# !pip install marketprofile\n",
    "\n",
    "# # https://marketprofile.readthedocs.io/en/latest/"
   ]
  },
  {
   "cell_type": "code",
   "execution_count": 129,
   "metadata": {},
   "outputs": [],
   "source": [
    "from market_profile import MarketProfile\n",
    "\n",
    "mp = MarketProfile(lulu)\n",
    "mp_slice = mp[lulu.index.min():lulu.index.max()]"
   ]
  },
  {
   "cell_type": "code",
   "execution_count": 130,
   "metadata": {},
   "outputs": [
    {
     "data": {
      "text/plain": [
       "Close\n",
       "139.00    4568200.0\n",
       "140.40    3809600.0\n",
       "144.90    3764700.0\n",
       "154.90    2989600.0\n",
       "165.05    5338000.0\n",
       "            ...    \n",
       "508.85     816400.0\n",
       "509.25     688700.0\n",
       "510.00    1179500.0\n",
       "511.05     896600.0\n",
       "511.30     918300.0\n",
       "Name: Volume, Length: 1194, dtype: float64"
      ]
     },
     "execution_count": 130,
     "metadata": {},
     "output_type": "execute_result"
    }
   ],
   "source": [
    "mp_slice.profile"
   ]
  },
  {
   "cell_type": "code",
   "execution_count": 131,
   "id": "51b92000",
   "metadata": {},
   "outputs": [
    {
     "data": {
      "image/png": "[encoded data removed]",
      "text/plain": [
       "<Figure size 1000x600 with 1 Axes>"
      ]
     },
     "metadata": {},
     "output_type": "display_data"
    }
   ],
   "source": [
    "# plot mp_slice.profile\n",
    "plt.figure(figsize=(10,6))\n",
    "plt.plot(mp_slice.profile.index, mp_slice.profile.values)\n",
    "plt.title('Market Profile')\n",
    "plt.xlabel('Price')\n",
    "plt.ylabel('Volume')\n",
    "plt.grid()\n",
    "plt.show()"
   ]
  },
  {
   "cell_type": "code",
   "execution_count": 132,
   "id": "8e666226",
   "metadata": {},
   "outputs": [],
   "source": [
    "# mp_slice.initial_balance()\n",
    "# mp_slice.open_range()"
   ]
  },
  {
   "cell_type": "code",
   "execution_count": 133,
   "id": "b2f88ae2",
   "metadata": {},
   "outputs": [
    {
     "data": {
      "text/plain": [
       "np.float64(412.95)"
      ]
     },
     "execution_count": 133,
     "metadata": {},
     "output_type": "execute_result"
    }
   ],
   "source": [
    "mp_slice.poc_price"
   ]
  },
  {
   "cell_type": "code",
   "execution_count": 134,
   "id": "a677735a",
   "metadata": {},
   "outputs": [
    {
     "data": {
      "image/png": "[encoded data removed]",
      "text/plain": [
       "<Figure size 1200x600 with 1 Axes>"
      ]
     },
     "metadata": {},
     "output_type": "display_data"
    }
   ],
   "source": [
    "# plot lulu.Close and mp_slice.poc_price as horizontal line \n",
    "plt.figure(figsize=(12,6))\n",
    "plt.plot(lulu.index, lulu['Close'], label='Lulu Close', color='blue')\n",
    "plt.axhline(mp_slice.poc_price, label='POC Price', color='red', linestyle='--')\n",
    "plt.title('Lulu Close Price and POC Price')\n",
    "plt.xlabel('Date')\n",
    "plt.ylabel('Price')\n",
    "plt.legend()\n",
    "plt.grid()\n",
    "plt.show()"
   ]
  },
  {
   "cell_type": "code",
   "execution_count": 135,
   "id": "88a09203",
   "metadata": {},
   "outputs": [
    {
     "data": {
      "text/plain": [
       "(np.float64(139.0), np.float64(511.3))"
      ]
     },
     "execution_count": 135,
     "metadata": {},
     "output_type": "execute_result"
    }
   ],
   "source": [
    "mp_slice.profile_range"
   ]
  },
  {
   "cell_type": "code",
   "execution_count": 136,
   "metadata": {},
   "outputs": [
    {
     "data": {
      "text/plain": [
       "(np.float64(295.15), np.float64(511.3))"
      ]
     },
     "execution_count": 136,
     "metadata": {},
     "output_type": "execute_result"
    }
   ],
   "source": [
    "mp_slice.value_area"
   ]
  },
  {
   "cell_type": "code",
   "execution_count": 137,
   "metadata": {},
   "outputs": [
    {
     "data": {
      "text/plain": [
       "np.float64(686.9)"
      ]
     },
     "execution_count": 137,
     "metadata": {},
     "output_type": "execute_result"
    }
   ],
   "source": [
    "mp_slice.balanced_target"
   ]
  },
  {
   "cell_type": "code",
   "execution_count": 138,
   "metadata": {},
   "outputs": [
    {
     "data": {
      "text/plain": [
       "Close\n",
       "154.90    2989600.0\n",
       "169.15    3906800.0\n",
       "183.50    1767800.0\n",
       "189.60    2027200.0\n",
       "192.75    2912900.0\n",
       "            ...    \n",
       "498.05    1029200.0\n",
       "505.15    1063000.0\n",
       "506.35     887300.0\n",
       "509.25     688700.0\n",
       "511.05     896600.0\n",
       "Name: Volume, Length: 390, dtype: float64"
      ]
     },
     "execution_count": 138,
     "metadata": {},
     "output_type": "execute_result"
    }
   ],
   "source": [
    "mp_slice.low_value_nodes"
   ]
  },
  {
   "cell_type": "code",
   "execution_count": 139,
   "id": "ecb13ee9",
   "metadata": {},
   "outputs": [
    {
     "data": {
      "image/png": "[encoded data removed]",
      "text/plain": [
       "<Figure size 1200x600 with 1 Axes>"
      ]
     },
     "metadata": {},
     "output_type": "display_data"
    }
   ],
   "source": [
    "# plot mp_slice.low_value_nodes\n",
    "plt.figure(figsize=(12,6))\n",
    "plt.plot(mp_slice.low_value_nodes.index, mp_slice.low_value_nodes.values, label='Low Value Nodes', color='green')\n",
    "plt.title('Low Value Nodes')\n",
    "plt.xlabel('Price')\n",
    "plt.ylabel('Volume')\n",
    "plt.legend()\n",
    "plt.grid()\n",
    "plt.show()"
   ]
  },
  {
   "cell_type": "code",
   "execution_count": 140,
   "id": "14c5d057",
   "metadata": {},
   "outputs": [
    {
     "data": {
      "text/plain": [
       "Close\n",
       "165.05    5338000.0\n",
       "172.35    4267500.0\n",
       "188.85    3572100.0\n",
       "191.15    3160100.0\n",
       "193.35    4697900.0\n",
       "            ...    \n",
       "491.50    4504700.0\n",
       "502.75    2799000.0\n",
       "505.40    1187800.0\n",
       "506.90    1174800.0\n",
       "510.00    1179500.0\n",
       "Name: Volume, Length: 389, dtype: float64"
      ]
     },
     "execution_count": 140,
     "metadata": {},
     "output_type": "execute_result"
    }
   ],
   "source": [
    "mp_slice.high_value_nodes"
   ]
  },
  {
   "cell_type": "code",
   "execution_count": 141,
   "metadata": {},
   "outputs": [
    {
     "data": {
      "image/png": "[encoded data removed]",
      "text/plain": [
       "<Figure size 1200x600 with 1 Axes>"
      ]
     },
     "metadata": {},
     "output_type": "display_data"
    }
   ],
   "source": [
    "# plot mp_slice.high_value_nodes\n",
    "plt.figure(figsize=(12,6))\n",
    "plt.plot(mp_slice.high_value_nodes.index, mp_slice.high_value_nodes.values, label='High Value Nodes', color='orange')\n",
    "plt.title('High Value Nodes')\n",
    "plt.xlabel('Price')\n",
    "plt.ylabel('Volume')\n",
    "plt.legend()\n",
    "plt.grid()\n",
    "plt.show()"
   ]
  },
  {
   "cell_type": "code",
   "execution_count": null,
   "metadata": {},
   "outputs": [],
   "source": []
  }
 ],
 "metadata": {
  "kernelspec": {
   "display_name": "env_prova",
   "language": "python",
   "name": "python3"
  },
  "language_info": {
   "codemirror_mode": {
    "name": "ipython",
    "version": 3
   },
   "file_extension": ".py",
   "mimetype": "text/x-python",
   "name": "python",
   "nbconvert_exporter": "python",
   "pygments_lexer": "ipython3",
   "version": "3.9.21"
  }
 },
 "nbformat": 4,
 "nbformat_minor": 5
}
