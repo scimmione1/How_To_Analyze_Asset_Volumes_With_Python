{
 "cells": [
  {
   "cell_type": "code",
   "execution_count": 1,
   "id": "ddd8be1c",
   "metadata": {},
   "outputs": [],
   "source": [
    "import numpy as np\n",
    "import pandas as pd\n",
    "from datetime import datetime\n",
    "\n",
    "\n",
    "import matplotlib.pyplot as plt\n",
    "\n",
    "import warnings\n",
    "warnings.filterwarnings(\"ignore\")\n",
    "\n",
    "import datetime as dt\n",
    "import time"
   ]
  },
  {
   "cell_type": "code",
   "execution_count": 2,
   "id": "a70e3a2f",
   "metadata": {},
   "outputs": [],
   "source": [
    "# portfolio of stocks\n",
    "stocks = ['LULU', 'ADBE', 'PYPL', 'NKE', 'MC']"
   ]
  },
  {
   "cell_type": "markdown",
   "id": "5710a33d",
   "metadata": {},
   "source": [
    "#### Download historical data from TradingView API"
   ]
  },
  {
   "cell_type": "code",
   "execution_count": 3,
   "metadata": {},
   "outputs": [],
   "source": [
    "# from tvDatafeed import TvDatafeed, Interval\n",
    "# tv = TvDatafeed()\n",
    "\n",
    "# num_stocks = len(stocks)\n",
    "\n",
    "\n",
    "# # days calculation\n",
    "# start_date = datetime(2010, 1, 1)\n",
    "# today = datetime.now()\n",
    "# days_difference = (today - start_date).days\n",
    "\n",
    "# n_bars = min(days_difference + 100, 5000)  # max 5000 bars API limit"
   ]
  },
  {
   "cell_type": "code",
   "execution_count": 4,
   "metadata": {},
   "outputs": [],
   "source": [
    "# # Exchange mapping\n",
    "# stock_exchanges = {\n",
    "#     'LULU': 'NASDAQ',\n",
    "#     'ADBE': 'NASDAQ',\n",
    "#     'PYPL': 'NASDAQ',\n",
    "#     'NKE': 'NYSE',\n",
    "#     'MC': 'EURONEXT'\n",
    "# }\n",
    "\n",
    "# # Download function with retry and error handling\n",
    "# def download_with_retry(symbol, exchange, retries=3, delay=2):\n",
    "#     for attempt in range(retries):\n",
    "#         try:\n",
    "#             print(f\"Downloading {symbol} from {exchange} (attempt {attempt+1})\")\n",
    "#             data = tv.get_hist(\n",
    "#                 symbol=symbol, \n",
    "#                 exchange=exchange, \n",
    "#                 interval=Interval.in_daily,\n",
    "#                 n_bars=1000  # circa 4 anni di dati\n",
    "#             )\n",
    "#             if data is not None and not data.empty:\n",
    "#                 print(f\"✅ {symbol}: {len(data)} rows downloaded\")\n",
    "#                 return data\n",
    "#         except Exception as e:\n",
    "#             print(f\"❌ Error downloading {symbol}: {e}\")\n",
    "        \n",
    "#         if attempt < retries - 1:\n",
    "#             time.sleep(delay)\n",
    "    \n",
    "#     print(f\"❌ Failed to download {symbol} after {retries} attempts\")\n",
    "#     return None"
   ]
  },
  {
   "cell_type": "code",
   "execution_count": 5,
   "metadata": {},
   "outputs": [],
   "source": [
    "# # Download to DataFrame\n",
    "# print(\"🚀 Starting data download...\")\n",
    "# data_dict = {}\n",
    "# failed_downloads = []\n",
    "\n",
    "# for stock, exchange in stock_exchanges.items():\n",
    "#     data = download_with_retry(stock, exchange)\n",
    "#     if data is not None:\n",
    "#         # keep only the Close and Volume columns and rename them\n",
    "#         data_dict[stock] = data[['close', 'volume']].rename(\n",
    "#             columns={'close': f'{stock}_close', 'volume': f'{stock}_volume'}\n",
    "#         )\n",
    "#     else:\n",
    "#         failed_downloads.append(stock)\n",
    "\n",
    "# if failed_downloads:\n",
    "#     print(f\"⚠️ Failed to download: {failed_downloads}\")\n",
    "\n",
    "# # Combine into a single DataFrame\n",
    "# if data_dict:\n",
    "#     df = pd.concat(data_dict.values(), axis=1)\n",
    "#     print(f\"📊 Combined DataFrame shape: {df.shape}\")\n",
    "#     print(f\"📅 Date range: {df.index.min()} to {df.index.max()}\")\n",
    "#     print(\"\\nFirst 5 rows:\")\n",
    "#     print(df.head())\n",
    "# else:\n",
    "#     print(\"❌ No data downloaded successfully\")"
   ]
  },
  {
   "cell_type": "code",
   "execution_count": 6,
   "metadata": {},
   "outputs": [],
   "source": [
    "# # count nan\n",
    "# nan_counts = df.isna().sum()\n",
    "# print(\"NaN counts per column:\")\n",
    "# print(nan_counts[nan_counts > 0])\n",
    "\n",
    "# \"\"\"\n",
    "# NaN counts per column:\n",
    "# LULU_close     1000\n",
    "# LULU_volume    1000\n",
    "# ADBE_close     1000\n",
    "# ADBE_volume    1000\n",
    "# PYPL_close     1000\n",
    "# PYPL_volume    1000\n",
    "# NKE_close      1000\n",
    "# NKE_volume     1000\n",
    "# MC_close       1000\n",
    "# MC_volume      1000\n",
    "# dtype: int64\n",
    "# \"\"\""
   ]
  },
  {
   "cell_type": "markdown",
   "id": "df905c38",
   "metadata": {},
   "source": []
  },
  {
   "cell_type": "code",
   "execution_count": null,
   "id": "fcf72fad",
   "metadata": {},
   "outputs": [],
   "source": []
  },
  {
   "cell_type": "code",
   "execution_count": null,
   "metadata": {},
   "outputs": [],
   "source": []
  },
  {
   "cell_type": "code",
   "execution_count": null,
   "id": "013c7ed6",
   "metadata": {},
   "outputs": [],
   "source": []
  },
  {
   "cell_type": "code",
   "execution_count": null,
   "metadata": {},
   "outputs": [],
   "source": [
    "# download data to csv\n",
    "df.to_csv(\"stock_data.csv\")"
   ]
  },
  {
   "cell_type": "code",
   "execution_count": null,
   "id": "f1221466",
   "metadata": {},
   "outputs": [],
   "source": [
    "# read data from csv\n",
    "df = pd.read_csv(\"stock_data.csv\", index_col=0, parse_dates=True)\n",
    "df.head()"
   ]
  },
  {
   "cell_type": "code",
   "execution_count": null,
   "id": "23d30d63",
   "metadata": {},
   "outputs": [],
   "source": []
  },
  {
   "cell_type": "code",
   "execution_count": null,
   "id": "1c4bb0dc",
   "metadata": {},
   "outputs": [],
   "source": []
  },
  {
   "cell_type": "code",
   "execution_count": null,
   "id": "d6852e94",
   "metadata": {},
   "outputs": [],
   "source": []
  },
  {
   "cell_type": "code",
   "execution_count": null,
   "metadata": {},
   "outputs": [],
   "source": []
  }
 ],
 "metadata": {
  "kernelspec": {
   "display_name": "env_prova",
   "language": "python",
   "name": "python3"
  },
  "language_info": {
   "codemirror_mode": {
    "name": "ipython",
    "version": 3
   },
   "file_extension": ".py",
   "mimetype": "text/x-python",
   "name": "python",
   "nbconvert_exporter": "python",
   "pygments_lexer": "ipython3",
   "version": "3.9.21"
  }
 },
 "nbformat": 4,
 "nbformat_minor": 5
}
